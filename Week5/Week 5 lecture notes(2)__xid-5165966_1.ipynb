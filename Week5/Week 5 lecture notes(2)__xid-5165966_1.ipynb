{
 "cells": [
  {
   "cell_type": "markdown",
   "metadata": {},
   "source": [
    "# Dyson School of Design Engineering, DE1 Computing 1\n",
    "### [Thrishantha Nanayakkara](thrish.org)"
   ]
  },
  {
   "cell_type": "markdown",
   "metadata": {},
   "source": [
    "# Learn how to code object oriented programs\n",
    "\n",
    "Learning outcomes:\n",
    "\n",
    "* Know the basics of a class\n",
    "* Know what instances of a class mean\n",
    "* Know what encapsulation, abstraction, inheritance, and polymorphism of object oriented coding mean\n",
    "* Be able to use classes in a practical project\n",
    "* Be able to handle errors in codes by guiding the user to use the code in the correct way"
   ]
  },
  {
   "cell_type": "markdown",
   "metadata": {},
   "source": [
    "## 1. Introduction to classes in object oriented programming"
   ]
  },
  {
   "cell_type": "code",
   "execution_count": 1,
   "metadata": {},
   "outputs": [
    {
     "data": {
      "text/html": [
       "<iframe width=\"560\" height=\"315\" src=\"https://www.youtube.com/embed/pTB0EiLXUC8\" frameborder=\"0\" allow=\"accelerometer; autoplay; encrypted-media; gyroscope; picture-in-picture\" allowfullscreen></iframe>"
      ],
      "text/plain": [
       "<IPython.core.display.HTML object>"
      ]
     },
     "execution_count": 1,
     "metadata": {},
     "output_type": "execute_result"
    }
   ],
   "source": [
    "from IPython.display import HTML\n",
    "\n",
    "HTML('<iframe width=\"560\" height=\"315\" src=\"https://www.youtube.com/embed/pTB0EiLXUC8\" frameborder=\"0\" allow=\"accelerometer; autoplay; encrypted-media; gyroscope; picture-in-picture\" allowfullscreen></iframe>')"
   ]
  },
  {
   "cell_type": "markdown",
   "metadata": {},
   "source": [
    "We naturally think using objects. For instance, I would describe a shop to be a place where you find things for sale, a cashier, a place to pick up trolleys etc. Once I have described a shop using what it can do, I don't have to describe common things in a shop each time I explain a grocery shop, a book shop, or a hardware shop. I just have to give specific information like the name of the shop and use common features of the shop to guide somebody. \n",
    "\n",
    "In object oriented programming, we do the same by defining objects and what they can do, so that we can use them to define specific cases called \"instances\". \n"
   ]
  },
  {
   "cell_type": "markdown",
   "metadata": {},
   "source": [
    "**Example:** Now let us take a simple example. Imagine I have boxes called \"shoe box\" and \"lego box\". Let's say, I want to calculate the volume of each box. Then I can use a function like below:"
   ]
  },
  {
   "cell_type": "code",
   "execution_count": null,
   "metadata": {
    "collapsed": true
   },
   "outputs": [],
   "source": [
    "def boxvolume(length,width,height): # length, width, and height are arguments of the function\n",
    "    volume = length*width*height\n",
    "    return volume\n",
    "\n",
    "LegoBox_l = 3 #Lego box length\n",
    "LegoBox_w = 4 #Lego box width\n",
    "LegoBox_h = 5 #Lego box height\n",
    "\n",
    "LegoBoxVolume = boxvolume(LegoBox_l,LegoBox_w,LegoBox_h) # I call the function boxvolume\n",
    "\n",
    "ShoeBox_l = 2 #Shoe box length\n",
    "ShoeBox_w = 4 #Shoe box width\n",
    "ShoeBox_h = 3 #Shoe box height\n",
    "\n",
    "ShoeBoxVolume = boxvolume(ShoeBox_l,ShoeBox_w,ShoeBox_h) # I call the function boxvolume\n",
    "\n",
    "print('Shoe box volume: ',ShoeBoxVolume,', Legobox volume: ',LegoBoxVolume)"
   ]
  },
  {
   "cell_type": "markdown",
   "metadata": {},
   "source": [
    "To avoid having to have many variables for box dimensions, we can get the function to ask the user to input values, and use local variables inside a function like below:"
   ]
  },
  {
   "cell_type": "code",
   "execution_count": null,
   "metadata": {
    "collapsed": true
   },
   "outputs": [],
   "source": [
    "def boxvolume(name):\n",
    "    height = float(input('What is the height of the ' + name + '? '))\n",
    "    width = float(input('What is the width of the ' + name + '? '))\n",
    "    length = float(input('What is the length of the ' + name + '? '))\n",
    "    volume = length*width*height\n",
    "    return volume\n",
    "\n",
    "LegoBoxVolume = boxvolume('Lego box') # I call the function boxvolume\n",
    "\n",
    "ShoeBoxVolume = boxvolume('Shoe box') # I call the function boxvolume\n",
    "\n",
    "print('Shoe box volume: ',ShoeBoxVolume,', Legobox volume: ',LegoBoxVolume)"
   ]
  },
  {
   "cell_type": "markdown",
   "metadata": {},
   "source": [
    "If we have many things to compute, there can be many fragmented functions and variable definitions in a long code that is difficult to debug. \n",
    "\n",
    "Object oriented coding addresses this problem by grouping computations on one object in a code segment called a \"class\". This is called **encapsulation**. Moreover, a class can hide detailed computations and provide a simple user interface so that details can be changed in the background without affecting the user unterface too much. For instance, if you have a social media profile, you can click \"share\", which is a method in your profile. The social media service provider can then update details of how it is done in the background without affecting how you use it. This is called **abstraction**.\n",
    "\n",
    "Look at the Turtle example below where we can benefit from having things that an object can do as methods in one object."
   ]
  },
  {
   "cell_type": "code",
   "execution_count": null,
   "metadata": {
    "collapsed": true
   },
   "outputs": [],
   "source": [
    "#More complicated things one can do when methods are organized in a class representing an object\n",
    "import turtle \n",
    "\n",
    "ninja2 = turtle.Turtle()\n",
    "ninja2.pencolor(\"blue\")\n",
    "\n",
    "for i in range(10):\n",
    "    ninja2.forward(50)\n",
    "    ninja2.left(123) # Let's go counterclockwise this time \n",
    "    \n",
    "ninja2.pencolor(\"red\")\n",
    "for i in range(10):\n",
    "    ninja2.forward(100)\n",
    "    ninja2.left(123)\n",
    "\n",
    "turtle.done()\n",
    "turtle.bye()"
   ]
  },
  {
   "cell_type": "code",
   "execution_count": null,
   "metadata": {
    "collapsed": true
   },
   "outputs": [],
   "source": [
    "#Run this cell if you want to see the documentation\n",
    "#in the turtle class\n",
    "\n",
    "turtle.__doc__"
   ]
  },
  {
   "cell_type": "markdown",
   "metadata": {},
   "source": [
    "Please see more details of how to play with Python turtle class here: https://docs.python.org/3.3/library/turtle.html?highlight=turtle\n",
    "\n",
    "Now, let us do the Box example above to see detailed syntax of a class."
   ]
  },
  {
   "cell_type": "code",
   "execution_count": 3,
   "metadata": {},
   "outputs": [
    {
     "name": "stdout",
     "output_type": "stream",
     "text": [
      "What is the height of the Shoe box? 1\n",
      "What is the width of the Shoe box? 2\n",
      "What is the length of the Shoe box? 3\n",
      "What is the height of the Lego box? 4\n",
      "What is the width of the Lego box? 5\n",
      "What is the length of the Lego box? 6\n",
      "Documentation of the class:  Class for boxes in my room\n",
      "The  Shoe box  is on height  1.0 [m], width  2.0 [m], and length  3.0 [m].\n",
      "Shoe box  volume:  6.0\n",
      "The  Lego box  is on height  4.0 [m], width  5.0 [m], and length  6.0 [m].\n",
      "Lego box  volume:  120.0\n"
     ]
    }
   ],
   "source": [
    "class Box: #This is how the class is declared. \n",
    "    # Practically, this is a generic object like a box you later use for \n",
    "    # specific cases like shoe box, tool box, lego box, etc. \n",
    "    'Class for boxes in my room' #This is the documentation for the class\n",
    "    #You can call Box.__doc__ to read this documentation\n",
    "    \n",
    "    def __init__(self,name): \n",
    "        # this _init_ command initializes the class \n",
    "        self.boxname = name #We assign these features to a structure called \"self\"\n",
    "                        #These variables added to the self structure are called \"attributes\"\n",
    "    def getinfo(self): #A function in the class is called a method\n",
    "        #Here, you can get the user defined features of a\n",
    "        # particular instance like a shoe box with a name and dimensions.\n",
    "        height = float(input('What is the height of the ' + self.boxname + '? '))\n",
    "        width = float(input('What is the width of the ' + self.boxname + '? '))\n",
    "        length = float(input('What is the length of the ' + self.boxname + '? '))\n",
    "        \n",
    "        self.h = height #We assign these features to a structure called \"self\"\n",
    "        self.w = width\n",
    "        self.l = length\n",
    "    \n",
    "    def displayBoxDetails(self): #You can pass the self structure to these \"member functions\" and\n",
    "        # even add more fields to the self structure.\n",
    "        print('The ',self.boxname,' is on height ',self.h,'[m], width ', self.w,'[m], and length ',self.l,'[m].')\n",
    "        self.volume = self.h*self.w*self.l\n",
    "        print(self.boxname,\" volume: \", self.volume)\n",
    "        \n",
    "\n",
    "ShoeBox = Box('Shoe box')  #This is how we create new instances or objects using a class\n",
    "ShoeBox.getinfo()\n",
    "LegoBox = Box('Lego box') #These new instances are also called objects.\n",
    "LegoBox.getinfo()\n",
    "\n",
    "#Once an object is created, it will have it's own identity, but it will be able to use all \n",
    "#the member functions defined in the class, like below.\n",
    "\n",
    "print('Documentation of the class: ',ShoeBox.__doc__) #This will show the class documentation\n",
    "ShoeBox.displayBoxDetails()\n",
    "LegoBox.displayBoxDetails()\n"
   ]
  },
  {
   "cell_type": "markdown",
   "metadata": {},
   "source": [
    "In a class, you can even keep a track of how many instances were created using a class counter."
   ]
  },
  {
   "cell_type": "code",
   "execution_count": 7,
   "metadata": {},
   "outputs": [
    {
     "name": "stdout",
     "output_type": "stream",
     "text": [
      "What is the height of the Shoe box? 1\n",
      "What is the width of the Shoe box? 2\n",
      "What is the length of the Shoe box? 3\n",
      "What is the height of the Lego box? 4\n",
      "What is the width of the Lego box? 5\n",
      "What is the length of the Lego box? 6\n",
      "Class for boxes in my room\n",
      "Counted  2  boxes!\n",
      "Name :  Shoe box , volume:  6.0\n",
      "Name :  Lego box , volume:  120.0\n"
     ]
    }
   ],
   "source": [
    "class Box: #This is how the class is declared. \n",
    "    # Practically, this is a generic object like a box you later use for \n",
    "    # specific cases like shoe box, tool box, lego box, etc. \n",
    "    'Class for boxes in my room' #This is the documentation for the class\n",
    "    #You can call Box.__doc__ to read this documentation\n",
    "    \n",
    "    boxCount = 0 #Initiate a box count\n",
    "    \n",
    "    def __init__(self, name): #I can pass any number of variables \n",
    "        # this _init_ command initializes the class with the user defined features of a\n",
    "        # particular instance like a shoe box with a name and dimensions.\n",
    "        self.boxname = name #We assign these features to a structure called \"self\"\n",
    "        Box.boxCount += 1 #Everytime a new box instance is created, this counter will\n",
    "        # go up by one. So, each box will know how many total boxes are there in the room.\n",
    "   \n",
    "    def getinfo(self): #A function in the class is called a method\n",
    "        #Here, you can get the user defined features of a\n",
    "        # particular instance like a shoe box with a name and dimensions.\n",
    "        height = float(input('What is the height of the ' + self.boxname + '? '))\n",
    "        width = float(input('What is the width of the ' + self.boxname + '? '))\n",
    "        length = float(input('What is the length of the ' + self.boxname + '? '))\n",
    "        \n",
    "        self.h = height #We assign these features to a structure called \"self\"\n",
    "        self.w = width\n",
    "        self.l = length\n",
    "        \n",
    "    def displayCount(self): #You can pass the self structure to these \"member functions\" and\n",
    "        # do interesting things with it, like looking at some details.\n",
    "        print('Counted ', Box.boxCount, ' boxes!')\n",
    "    \n",
    "    def displayBoxDetails(self): #You can pass the self structure to these \"member functions\" and\n",
    "        # even add more fields to the self structure.\n",
    "        self.volume = self.h*self.w*self.l\n",
    "        print(\"Name : \", self.boxname,  \", volume: \", self.volume)\n",
    "        \n",
    "\n",
    "ShoeBox = Box('Shoe box')#This is how we create new instances or objects using a class\n",
    "ShoeBox.getinfo()\n",
    "LegoBox = Box('Lego box')\n",
    "LegoBox.getinfo()\n",
    "\n",
    "#Once an object is created, it will have it's own identity, but it will be able to use all \n",
    "#the member functions defined in the class, like below.\n",
    "\n",
    "print(ShoeBox.__doc__) #This will show the class documentation\n",
    "ShoeBox.displayCount() #This is how we can call member functions of an object.\n",
    "ShoeBox.displayBoxDetails()\n",
    "LegoBox.displayBoxDetails()\n"
   ]
  },
  {
   "cell_type": "code",
   "execution_count": 11,
   "metadata": {},
   "outputs": [
    {
     "name": "stdout",
     "output_type": "stream",
     "text": [
      "What is the name of the ship? Anne\n",
      "What is the type of the ship? i.e. cargo, passenger, battle, police...cargo\n",
      "The ships we have are: ['Anne']\n",
      "What is the name of the ship? Mary\n",
      "What is the type of the ship? i.e. cargo, passenger, battle, police...passenger\n",
      "The ships we have are: ['Anne', 'Mary']\n"
     ]
    }
   ],
   "source": [
    "class ship:\n",
    "    'This class will define what a ship can do'\n",
    "    names = []\n",
    "    def __init__ (self):\n",
    "        self.name = []\n",
    "        self.kind = []\n",
    "        \n",
    "    def getinfo(self):\n",
    "        name = input('What is the name of the ship? ')\n",
    "        kind = input('What is the type of the ship? i.e. cargo, passenger, battle, police...')\n",
    "        self.name = name\n",
    "        self.kind = kind\n",
    "        ship.names.append(name)\n",
    "        \n",
    "    def getnames(self):\n",
    "        print('The ships we have are: {}' .format(self.names))\n",
    "        \n",
    "\n",
    "myship = ship()\n",
    "myship.getinfo()\n",
    "myship.getnames()\n",
    "\n",
    "yourship = ship()\n",
    "yourship.getinfo()\n",
    "myship.getnames()\n",
    "        "
   ]
  },
  {
   "cell_type": "code",
   "execution_count": 12,
   "metadata": {},
   "outputs": [
    {
     "name": "stdout",
     "output_type": "stream",
     "text": [
      "What kind of ship is Ann? - [cleaning, battle, passenger, cargo]cargo\n",
      "What kind of ship is Mary? - [cleaning, battle, passenger, cargo]cleaning\n",
      "The ships we have are: ['Ann', 'Mary']\n",
      "Ann can go upto 100 km/hour\n",
      "Mary can go upto 50 km/hour\n"
     ]
    }
   ],
   "source": [
    "#We can now extend the ship class to give more behavioral capabilities to the ships\n",
    "class ship:\n",
    "    'This class will define what a ship can do'\n",
    "    names = []\n",
    "    def __init__ (self,name):\n",
    "        self.name = name\n",
    "        ship.names.append(name)\n",
    "        kind = input(\"What kind of ship is {}? - [cleaning, battle, passenger, cargo]\" .format(self.name))\n",
    "        self.type = kind\n",
    "        self.AssignCapabilities() #Very important abstraction\n",
    "        #You can call a method from inside a class\n",
    "        #to hide detailed operations from the user.\n",
    "        \n",
    "    def getnames(self):\n",
    "        print('The ships we have are: {}' .format(self.names))\n",
    "    \n",
    "    def AssignCapabilities(self):\n",
    "        if self.type == \"cleaning\":\n",
    "            self.maxspeed = 50 #km/hour\n",
    "            self.ratedspeed = 10 #Km/hour\n",
    "            self.capacity = 200 #tons\n",
    "        if self.type == \"battle\":\n",
    "            self.maxspeed = 200 #km/hour\n",
    "            self.ratedspeed = 50 #Km/hour\n",
    "            self.capacity = 50 #tons\n",
    "        if self.type == \"passenger\":\n",
    "            self.maxspeed = 50 #km/hour\n",
    "            self.ratedspeed = 10 #Km/hour\n",
    "            self.capacity = 500 #tons\n",
    "        if self.type == \"cargo\":\n",
    "            self.maxspeed = 100 #km/hour\n",
    "            self.ratedspeed = 20 #Km/hour\n",
    "            self.capacity = 5000 #tons\n",
    "        \n",
    "myship1 = ship(\"Ann\")\n",
    "#myship1.AssignCapabilities()\n",
    "myship2 = ship(\"Mary\")\n",
    "myship2.getnames()\n",
    "#myship2.AssignCapabilities()\n",
    "\n",
    "print(\"{} can go upto {} km/hour\" .format(myship1.name,myship1.maxspeed))\n",
    "print(\"{} can go upto {} km/hour\" .format(myship2.name,myship2.maxspeed))"
   ]
  },
  {
   "cell_type": "code",
   "execution_count": 13,
   "metadata": {},
   "outputs": [
    {
     "name": "stdout",
     "output_type": "stream",
     "text": [
      "Washing machine powered on!\n",
      "Washing linen in LG will take 40 minutes\n",
      "Washing machine powered on!\n",
      "Washing woolen in Lux will take 20 minutes\n"
     ]
    }
   ],
   "source": [
    "import random as r\n",
    "\n",
    "class WashingMachine:\n",
    "    def __init__(self,model):\n",
    "        print('Washing machine powered on!')\n",
    "        self.model = model\n",
    "        \n",
    "    def selectMode(self):\n",
    "        modes = ['cotton','woolen','linen']\n",
    "        n = r.randint(0,2)\n",
    "        mode = modes[n]\n",
    "        self.mode = mode\n",
    "        self.selectAlgo() #Abstraction-I call this method from here.\n",
    "        \n",
    "    def selectAlgo(self):\n",
    "        mode = self.mode\n",
    "        if mode == 'cotton':\n",
    "            algo = 'slow spin'\n",
    "        elif mode == 'woolen':\n",
    "            algo = 'fast spin'\n",
    "        elif mode == 'linen':\n",
    "            algo = 'medium spin'\n",
    "        self.algo = algo\n",
    "    \n",
    "    def display(self):\n",
    "        if (self.model == 'LG') & (self.algo == 'slow spin'):\n",
    "            print('Washing '+ self.mode + ' in ' + self.model + ' will take 1 hour')\n",
    "        if (self.model == 'LG') & (self.algo == 'fast spin'):\n",
    "            print('Washing '+ self.mode + ' in ' + self.model + ' will take 30 minutes')\n",
    "        if (self.model == 'LG') & (self.algo == 'medium spin'):\n",
    "            print('Washing '+ self.mode + ' in ' + self.model + ' will take 40 minutes')\n",
    "            \n",
    "        if (self.model == 'Lux') & (self.algo == 'slow spin'):\n",
    "            print('Washing '+ self.mode + ' in ' + self.model + ' will take 40 minutes')\n",
    "        if (self.model == 'Lux') & (self.algo == 'fast spin'):\n",
    "            print('Washing '+ self.mode + ' in ' + self.model + ' will take 20 minutes')\n",
    "        if (self.model == 'Lux') & (self.algo == 'medium spin'):\n",
    "            print('Washing '+ self.mode + ' in ' + self.model + ' will take 30 minutes')\n",
    "\n",
    "M1 = WashingMachine('LG')\n",
    "M1.selectMode()\n",
    "#M1.selectAlgo()\n",
    "M1.display()\n",
    "\n",
    "M2 = WashingMachine('Lux')\n",
    "M2.selectMode()\n",
    "#M2.selectAlgo()\n",
    "M2.display()"
   ]
  },
  {
   "cell_type": "markdown",
   "metadata": {},
   "source": [
    "## Exercise\n",
    "Extend the above class - **Box** - to be able to allow any box to know the names of all boxes. "
   ]
  },
  {
   "cell_type": "code",
   "execution_count": 16,
   "metadata": {},
   "outputs": [
    {
     "name": "stdout",
     "output_type": "stream",
     "text": [
      "Class for boxes in my room\n",
      "Counted  2  boxes!\n",
      "We have  ['Shoe box', 'Lego box']\n"
     ]
    }
   ],
   "source": [
    "class Box: #This is how the class is declared. \n",
    "    # Practically, this is a generic object like a box you later use for \n",
    "    # specific cases like shoe box, tool box, lego box, etc. \n",
    "    'Class for boxes in my room' #This is the documentation for the class\n",
    "    #You can call Box.__doc__ to read this documentation\n",
    "    \n",
    "    boxCount = 0 #Initiate a box count\n",
    "    boxes = []\n",
    "    def __init__(self, name): #I can pass any number of variables \n",
    "        # this _init_ command initializes the class with the user defined features of a\n",
    "        # particular instance like a shoe box with a name and dimensions.\n",
    "        self.boxname = name #We assign these features to a structure called \"self\"\n",
    "        Box.boxCount += 1 #Everytime a new box instance is created, this counter will\n",
    "        # go up by one. So, each box will know how many total boxes are there in the room.\n",
    "        Box.boxes.append(name)\n",
    "        \n",
    "    def getinfo(self): #A function in the class is called a method\n",
    "        #Here, you can get the user defined features of a\n",
    "        # particular instance like a shoe box with a name and dimensions.\n",
    "        height = float(input('What is the height of the ' + self.boxname + '? '))\n",
    "        width = float(input('What is the width of the ' + self.boxname + '? '))\n",
    "        length = float(input('What is the length of the ' + self.boxname + '? '))\n",
    "        \n",
    "        self.h = height #We assign these features to a structure called \"self\"\n",
    "        self.w = width\n",
    "        self.l = length\n",
    "        \n",
    "    def displayCount(self): #You can pass the self structure to these \"member functions\" and\n",
    "        # do interesting things with it, like looking at some details.\n",
    "        print('Counted ', Box.boxCount, ' boxes!')\n",
    "        print('We have ',Box.boxes)\n",
    "    \n",
    "    def displayBoxDetails(self): #You can pass the self structure to these \"member functions\" and\n",
    "        # even add more fields to the self structure.\n",
    "        self.volume = self.h*self.w*self.l\n",
    "        print(self.boxname,  \", volume: \", self.volume)\n",
    "        \n",
    "\n",
    "ShoeBox = Box('Shoe box')#This is how we create new instances or objects using a class\n",
    "#ShoeBox.getinfo()\n",
    "LegoBox = Box('Lego box')\n",
    "#LegoBox.getinfo()\n",
    "\n",
    "#Once an object is created, it will have it's own identity, but it will be able to use all \n",
    "#the member functions defined in the class, like below.\n",
    "\n",
    "print(ShoeBox.__doc__) #This will show the class documentation\n",
    "ShoeBox.displayCount() #This is how we can call member functions of an object.\n",
    "#ShoeBox.displayBoxDetails()\n",
    "#LegoBox.displayBoxDetails()\n"
   ]
  },
  {
   "cell_type": "markdown",
   "metadata": {},
   "source": [
    "A class can have many methods defined inside it. We can write those methods such that they exhibit accurate, but different behaviors depending on their usage in different contexts. This is called **polymorphism**. Take a built in example of adding."
   ]
  },
  {
   "cell_type": "code",
   "execution_count": null,
   "metadata": {
    "collapsed": true
   },
   "outputs": [],
   "source": [
    "print(2+3) #In this case the \"+\" object behaves like a numerical addition because the arguments\n",
    "#are numerics\n",
    "print('My '+'name '+'is '+'Thrishantha') #In this case, the arguments are strings. Then the same \n",
    "#'+' object behaves as a concatanating operation\n",
    "#This automatic assumption of different but correct behaviors depending on the context is called \n",
    "#Polymorphism"
   ]
  },
  {
   "cell_type": "markdown",
   "metadata": {},
   "source": [
    "**Inheritance**..."
   ]
  },
  {
   "cell_type": "code",
   "execution_count": null,
   "metadata": {
    "collapsed": true
   },
   "outputs": [],
   "source": [
    "class People: #Name of the class or object\n",
    "    'This class defines some information about people' #Notes for this class\n",
    "    \n",
    "    def __init__(self,name): #Constructing the class\n",
    "        #Then, we can prompt the user to input some information for a specific instance\n",
    "        gender = input(\"Enter the gender for {} - male or female?: \" .format(name))\n",
    "        age = float(input(\"Enter the age for {} in years: \" .format(name)))\n",
    "        #Then store those fields in the self structure\n",
    "        self.gender = gender\n",
    "        self.age = age\n",
    "        self.name = name\n",
    "    def getAge(self): #A function in the class\n",
    "        return self.age\n",
    "    def getGender(self):\n",
    "        return self.gender\n",
    "\n",
    "#Instances of the class - People\n",
    "person1 = People(\"Ann\")\n",
    "person2 = People(\"Seth\")\n",
    "#You can then test one instance \n",
    "print('Person 1 is ',person1.getAge())\n",
    "print('Person 2 is a ', person2.getGender())"
   ]
  },
  {
   "cell_type": "markdown",
   "metadata": {},
   "source": [
    "Now let us look at a useful technique called **inheritance**. Consider the case where we want to define a class that is a subset of the class - People. Then we can inherit things \"People\" can do to avoid duplication of codes. Consider the case of the new class called \"Employee\". Apparently, **Employee** can **inherit** things that **People** can do.\n"
   ]
  },
  {
   "cell_type": "code",
   "execution_count": null,
   "metadata": {
    "collapsed": true
   },
   "outputs": [],
   "source": [
    "class People: #Name of the class or object\n",
    "    'This class defines some information about people' #Notes for this class\n",
    "    \n",
    "    def __init__(self,name): #Constructing the class\n",
    "        #Then, we can prompt the user to input some information for a specific instance\n",
    "        gender = input(\"Enter the gender for {} - male or female?: \" .format(name))\n",
    "        age = float(input(\"Enter the age for {} in years: \" .format(name)))\n",
    "        #Then store those fields in the self structure\n",
    "        self.gender = gender\n",
    "        self.age = age\n",
    "        self.name = name\n",
    "    def getAge(self): #A function in the class\n",
    "        return self.age\n",
    "    def getGender(self):\n",
    "        return self.gender\n",
    "\n",
    "class Employee(People): #Remember to put the name of the parent class as an input to \n",
    "    #the class that inherits it\n",
    "    'Employee information and what employees can do'\n",
    "    \n",
    "    def __init__(self,name):\n",
    "        super().__init__(name) #This line is crucial that allows this class to\n",
    "        #Initialize the relevant fields in the mother class\n",
    "        #People.__init__(self,name) #This is another way to inherit the parent class\n",
    "        if self.age >= 18:\n",
    "            scale = int(input(\"Enter the salary scale for {}\" .format(name)))\n",
    "            self.scale = scale\n",
    "        else:\n",
    "            print(\"{} should be 18 to be an employee!\" .format(name))\n",
    "\n",
    "#Seth = People(\"Seth\")\n",
    "Employee1 = Employee(\"Seth\")\n",
    "Employee2 = Employee(\"Ann\")\n",
    "\n",
    "print('Ann is a ', Employee2.getGender()) #Here, we are using a function in the mother class - People\n",
    "\n",
    "print('Seth is ',Employee1.getAge())\n"
   ]
  },
  {
   "cell_type": "markdown",
   "metadata": {},
   "source": [
    "Take another example of a washing machine, where new models can inherit classes written for generic washing machine features to make it more compact."
   ]
  },
  {
   "cell_type": "code",
   "execution_count": 18,
   "metadata": {},
   "outputs": [
    {
     "name": "stdout",
     "output_type": "stream",
     "text": [
      "Initiated the child class\n",
      "Initiated the mother class\n",
      "Washing machine powered on!\n",
      "Washing woolen in LG will take 30 minutes\n",
      "Initiated the child class\n",
      "Initiated the mother class\n",
      "Washing machine powered on!\n",
      "Washing woolen in Lux will take 20 minutes\n"
     ]
    }
   ],
   "source": [
    "import random as r\n",
    "\n",
    "class wMachine:\n",
    "    def __init__(self,model):\n",
    "        print('Initiated the mother class')\n",
    "        print('Washing machine powered on!')\n",
    "        self.model = model\n",
    "        \n",
    "    def selectMode(self):\n",
    "        modes = ['cotton','woolen','linen']\n",
    "        n = r.randint(0,2)\n",
    "        mode = modes[n]\n",
    "        self.mode = mode\n",
    "        self.selectAlgo()\n",
    "        \n",
    "    def selectAlgo(self):\n",
    "        mode = self.mode\n",
    "        if mode == 'cotton':\n",
    "            algo = 'slow spin'\n",
    "        elif mode == 'woolen':\n",
    "            algo = 'fast spin'\n",
    "        elif mode == 'linen':\n",
    "            algo = 'medium spin'\n",
    "        self.algo = algo\n",
    "\n",
    "\n",
    "class MynewMachine(wMachine):\n",
    "    'This is a child class of newWashingMachine'\n",
    "    def __init__(self,model):\n",
    "        print('Initiated the child class')\n",
    "        super().__init__(model)\n",
    "        \n",
    "    def display(self):\n",
    "        if (self.model == 'LG') & (self.algo == 'slow spin'):\n",
    "            print('Washing '+ self.mode + ' in ' + self.model + ' will take 1 hour')\n",
    "        if (self.model == 'LG') & (self.algo == 'fast spin'):\n",
    "            print('Washing '+ self.mode + ' in ' + self.model + ' will take 30 minutes')\n",
    "        if (self.model == 'LG') & (self.algo == 'medium spin'):\n",
    "            print('Washing '+ self.mode + ' in ' + self.model + ' will take 40 minutes')\n",
    "            \n",
    "        if (self.model == 'Lux') & (self.algo == 'slow spin'):\n",
    "            print('Washing '+ self.mode + ' in ' + self.model + ' will take 40 minutes')\n",
    "        if (self.model == 'Lux') & (self.algo == 'fast spin'):\n",
    "            print('Washing '+ self.mode + ' in ' + self.model + ' will take 20 minutes')\n",
    "        if (self.model == 'Lux') & (self.algo == 'medium spin'):\n",
    "            print('Washing '+ self.mode + ' in ' + self.model + ' will take 30 minutes')\n",
    "\n",
    "M1 = MynewMachine('LG')\n",
    "M1.selectMode()\n",
    "#M1.selectAlgo()\n",
    "M1.display()\n",
    "\n",
    "M2 = MynewMachine('Lux')\n",
    "M2.selectMode()\n",
    "#M2.selectAlgo()\n",
    "M2.display()"
   ]
  },
  {
   "cell_type": "markdown",
   "metadata": {},
   "source": [
    "## 2. Error handling\n"
   ]
  },
  {
   "cell_type": "code",
   "execution_count": null,
   "metadata": {
    "collapsed": true
   },
   "outputs": [],
   "source": [
    "x = int(input(\"Please enter a number: \"))"
   ]
  },
  {
   "cell_type": "markdown",
   "metadata": {},
   "source": [
    "How can we handle the above error if somebody enters a character by mistake when asked to enter a number? In Python, we can use <span style=\"color:blue\">try, except</span> conditions like the following example."
   ]
  },
  {
   "cell_type": "code",
   "execution_count": 19,
   "metadata": {},
   "outputs": [
    {
     "name": "stdout",
     "output_type": "stream",
     "text": [
      "Please enter a number: a\n",
      "Looks like you didn't enter a valid number like 1,2,3....  Try again...\n",
      "Please enter a number: 3\n"
     ]
    }
   ],
   "source": [
    "try:\n",
    "    x = int(input(\"Please enter a number: \"))\n",
    "except ValueError:\n",
    "    print(\"Looks like you didn't enter a valid number like 1,2,3....  Try again...\")\n",
    "    x = int(input(\"Please enter a number: \"))"
   ]
  },
  {
   "cell_type": "markdown",
   "metadata": {},
   "source": [
    "Consider a case we can get multiple errors like the case below:"
   ]
  },
  {
   "cell_type": "code",
   "execution_count": null,
   "metadata": {
    "collapsed": true
   },
   "outputs": [],
   "source": [
    "MyPlaces = (\"Home\",\"Library\",\"Studio\",\"Lab\",\"Gym\")\n",
    "x = int(input(\"Which word do you want to pick? Enter 1 for 1st, 3 for 3rd: \"))\n",
    "print(MyPlaces[option])"
   ]
  },
  {
   "cell_type": "code",
   "execution_count": null,
   "metadata": {
    "collapsed": true
   },
   "outputs": [],
   "source": [
    "MyPlaces = (\"Home\",\"Library\",\"Studio\",\"Lab\",\"Gym\")\n",
    "try:\n",
    "    x = int(input(\"Which word do you want to pick? Enter 1 for 1st, 3 for 3rd: \"))\n",
    "    print(MyPlaces[option]) #This is a NameError because 'option' is not\n",
    "    #used above nor initialized. It would have been ok if we instead\n",
    "    #used, print(MyPlaces[x])\n",
    "except NameError:\n",
    "    print(\"Array index should be defined first!\")"
   ]
  },
  {
   "cell_type": "markdown",
   "metadata": {},
   "source": [
    "Let's say we fix the *NameError* issue. Still there are chances for having other errors:"
   ]
  },
  {
   "cell_type": "code",
   "execution_count": null,
   "metadata": {
    "collapsed": true
   },
   "outputs": [],
   "source": [
    "MyPlaces = (\"Home\",\"Library\",\"Studio\",\"Lab\",\"Gym\")\n",
    "try:\n",
    "    x = int(input(\"Which word do you want to pick? Enter 1 for 1st, 3 for 3rd: \"))\n",
    "    print(MyPlaces[x]) #Correct use of an index which is defined first\n",
    "except NameError:\n",
    "    print(\"Array index should be defined first!\")\n",
    "except ValueError: #This will happen if you entered a float number instead of\n",
    "    #an integer\n",
    "    print(\"Looks like you did not enter an integer. Try again.\")\n",
    "    x = int(input(\"Which word do you want to pick? Enter 1 for 1st, 3 for 3rd: \"))\n",
    "    print('It is the ',MyPlaces[x] , 'you were looking for?')"
   ]
  },
  {
   "cell_type": "markdown",
   "metadata": {},
   "source": [
    "Even if an integer is entered, still there can be an IndexError if we enter an out of range index."
   ]
  },
  {
   "cell_type": "code",
   "execution_count": null,
   "metadata": {
    "collapsed": true
   },
   "outputs": [],
   "source": [
    "MyPlaces = (\"Home\",\"Library\",\"Studio\",\"Lab\",\"Gym\")\n",
    "try:\n",
    "    x = int(input(\"Which word do you want to pick? Enter 1 for 1st, 3 for 3rd: \"))\n",
    "    print(MyPlaces[x])\n",
    "except NameError:\n",
    "    print(\"Array index should be defined first!\")\n",
    "except ValueError:\n",
    "    print(\"Looks like you did not enter an integer. Try again.\")"
   ]
  },
  {
   "cell_type": "markdown",
   "metadata": {},
   "source": [
    "So, to cover all these errors, we have to improve the code to the following:"
   ]
  },
  {
   "cell_type": "code",
   "execution_count": null,
   "metadata": {
    "collapsed": true
   },
   "outputs": [],
   "source": [
    "MyPlaces = (\"Home\",\"Library\",\"Studio\",\"Lab\",\"Gym\")\n",
    "try:\n",
    "    x = int(input(\"Which word do you want to pick? Enter 1 for 1st, 3 for 3rd: \"))\n",
    "    print(MyPlaces[x])\n",
    "except NameError:\n",
    "    print(\"Array index should be defined first!\")\n",
    "except ValueError:\n",
    "    print(\"Looks like you did not enter an integer. Try again.\")\n",
    "except IndexError:\n",
    "    print(\"You can choose upto {} places\" .format(len(MyPlaces)))"
   ]
  },
  {
   "cell_type": "markdown",
   "metadata": {},
   "source": [
    "This kind of testing allows you to help the user in a meaningful way. Otherwise, the system generated errors can be too technical for somebody who does not know the syntax and semantic rules."
   ]
  },
  {
   "cell_type": "markdown",
   "metadata": {
    "collapsed": true
   },
   "source": [
    "## 3. Exercises\n",
    "* Add a function in the above class - **People** - to take the bank balance as input to generate how much interest it will accrue at the end of the year at 2% interest rate."
   ]
  },
  {
   "cell_type": "markdown",
   "metadata": {},
   "source": [
    "* Try to see if the inheritance in People -> Employee can be extended to a 3rd level of inheritance to a new class called *Engineers*."
   ]
  },
  {
   "cell_type": "code",
   "execution_count": null,
   "metadata": {
    "collapsed": true
   },
   "outputs": [],
   "source": [
    "class Engineers(Employee): #The class immediately above in the hiararchy of inheritance should\n",
    "    #be given as input\n",
    "    'This class deals with engineers'\n",
    "    def __init__(self,name):\n",
    "        super().__init__(name)\n",
    "        #Employee.__init__(self,name) #The initialization of the parent class should be informed\n",
    "        category = input(\"What is the engineering department? i.e. DE, Electrical.. \")\n",
    "        self.category = category\n",
    "    def Bank(self):\n",
    "        self.balance = float(input(\"Enter the bank balance for {}: \" .format(self.name)))\n",
    "        self.rate = 0.2\n",
    "        interest = self.balance * self.rate\n",
    "        if self.category == 'DE':\n",
    "            bonus = 0.2*interest\n",
    "        else:\n",
    "            bonus = 0\n",
    "        return interest + bonus\n",
    "        \n",
    "Adam = Engineers(\"Adam\") #Try to enter DE for adam's department and enter bank balance to be 100\n",
    "Ben = Engineers(\"Ben\") #Try to enter EEE for Ben's department and enter bank balance to be 100\n",
    "\n",
    "\n",
    "print(\"{} is in the {} department\" .format(Adam.name,Adam.category))\n",
    "print(\"{} will earn £{:.2f} interest this year.\" .format(Adam.name,Adam.Bank()))\n",
    "\n",
    "print(\"{} is in the {} department\" .format(Ben.name,Ben.category))\n",
    "print(\"{} will earn £{:.2f} interest this year.\" .format(Ben.name,Ben.Bank()))"
   ]
  },
  {
   "cell_type": "markdown",
   "metadata": {},
   "source": [
    "Now you can see how nested **inheritance** can be very useful to design complex class structures. In fact when we use module like \"math\", \"random\", we do the same thing. For instance, when we use the command *from math import sin*, we inherit the things we can do with *sin* in the *math* module. Since inheritance is an extremely useful tool when you design complex codes including classes, practice using it in different class structures.\n",
    "\n",
    "You can also notice here, that Ben and Adam get different interests for the same bank balance due to **polymorphism** feature we are incorporating into the Bank method. "
   ]
  },
  {
   "cell_type": "markdown",
   "metadata": {},
   "source": [
    "\n",
    "**Please have a look at the following video for more examples in inheritance and polymorphism.**"
   ]
  },
  {
   "cell_type": "code",
   "execution_count": null,
   "metadata": {
    "collapsed": true
   },
   "outputs": [],
   "source": [
    "from IPython.display import HTML\n",
    "\n",
    "HTML('<iframe width=\"560\" height=\"315\" src=\"https://www.youtube.com/embed/wksc1pfhJ5Q\" frameborder=\"0\" allow=\"autoplay; encrypted-media\" allowfullscreen></iframe>')"
   ]
  },
  {
   "cell_type": "code",
   "execution_count": null,
   "metadata": {
    "collapsed": true
   },
   "outputs": [],
   "source": [
    "from IPython.display import HTML\n",
    "\n",
    "HTML('https://www.quora.com/Why-we-need-OOPs-in-Programming-language')"
   ]
  },
  {
   "cell_type": "code",
   "execution_count": null,
   "metadata": {
    "collapsed": true
   },
   "outputs": [],
   "source": []
  }
 ],
 "metadata": {
  "anaconda-cloud": {},
  "kernelspec": {
   "display_name": "Python 3",
   "language": "python",
   "name": "python3"
  },
  "language_info": {
   "codemirror_mode": {
    "name": "ipython",
    "version": 3
   },
   "file_extension": ".py",
   "mimetype": "text/x-python",
   "name": "python",
   "nbconvert_exporter": "python",
   "pygments_lexer": "ipython3",
   "version": "3.6.3"
  }
 },
 "nbformat": 4,
 "nbformat_minor": 1
}
