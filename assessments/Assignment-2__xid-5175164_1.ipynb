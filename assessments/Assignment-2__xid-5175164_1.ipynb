{
 "cells": [
  {
   "cell_type": "markdown",
   "metadata": {},
   "source": [
    "## Dyson School of Design Engineering\n",
    "20th June 2018\n",
    "### DE1-Computing -1, Assignment-2\n",
    "#### Answer all questions\n",
    "** This assignment carries 60% of the final mark.**\n",
    "\n",
    "* This is an open book Python coding assignment. \n",
    "* You are allowed to submit upto 5 attempts on Black Board (Click Assignment-2 and follow instructions)\n",
    "* Please submit your answers as one Jupyter notebook file with code cells or a zip file of separate Python codes for each question. \n",
    "* Each Jupyter Notebook cell should run on its own. Do not assume availability of variables in the memory from previous cells.\n",
    "* Note that you will get marks for your correct attempts even if the code gives errors for some lines.\n",
    "* Maximum marks awarded for each sub question are shown within [$~$] \n",
    "* To earn full marks, your answer should be explained fully and clearly using comments in the code or text in a \"markdown\" cell, the code should run, the algorithm should be accurate (no semantic errors), and the implementation should be efficient."
   ]
  },
  {
   "cell_type": "markdown",
   "metadata": {
    "collapsed": true
   },
   "source": [
    "### Question 1\n",
    "\n",
    "Two players, Jack and Billy, play a dice game. They will both start the game with £100.\n",
    "In each round, each player will roll 3 six sided dice each having numbers from 1-6. The person who has the higher score (add the number of the three dice) wins. The winner gets £10 from the other player. If they have the same score, both of them need to roll the dice again.\n",
    "\n",
    "### Question 1.1  **[10 marks]**\n",
    "Write a class called **player** that has methods to obtain the score after rolling 3-dice, to add £10 if the player wins and to substract £10 if the player loses.\n",
    "### Question 1.2  **[20 marks]**\n",
    "Create instances of the **player** class for Jack and Billy. Do the following after 8-rounds of playing. \n",
    "\n",
    "* print how much money each of them have at the end of the game.\n",
    "* print how many rounds each of them wins.\n",
    "* plot the total amount of money each player had at each round. Label x and y axes, add a title for the plot, and show legends for both players.  "
   ]
  },
  {
   "cell_type": "markdown",
   "metadata": {},
   "source": [
    "### Question 2 \n",
    "\n",
    "A robotics company designs legged robots and wheeled robots for agricultural applications. They have a user interface that allows potential users to enter details of their requirements. You have to develop an object oriented program to keep a track of these user requirements, inform custmers what can be made and what cannot be made, and provide an estimate of costs involved. \n",
    "\n",
    "### Question 2.1 **[10 marks]**\n",
    "Develop a class called **robot** that takes the following user information: \n",
    "* Name of the user\n",
    "* Area of the farm in $m^2$\n",
    "* What is grown in the farm\n",
    "* Terrain conditions (flat or hilly)\n",
    "* Expected maximum acceleration of the robot\n",
    "\n",
    "### Question 2.2  **[10 marks]**\n",
    "Extend the above class to inform the user whether the robot can be designed or not based on the maximum expected acceleration, assuming that the company can make robots that can move at a maximum acceleration of $10 m/sec^2$ if the terrain is hilly and $20 m/sec^2$ if it is flat.\n",
    "\n",
    "### Question 2.3  **[20 marks]**\n",
    "Assuming the user's acceleration requirement is within the company's capability, extend the above class with a method to calculate and print the fuel cost to 2-decimal places to cover the farm land based on the following information.\n",
    "\n",
    "Let the farm area be $a$.\n",
    "Annual fuel cost = $\\sqrt{(0.002 a^2 + 0.4 a)}$ if the terrain condition is hilly.\n",
    "Annual fuel cost = $\\sqrt{(0.001 a^2 + 0.4 a)}$ if the terrain condition is flat. "
   ]
  },
  {
   "cell_type": "markdown",
   "metadata": {},
   "source": [
    "### Question 3\n",
    "### Question 3.1  **[10 marks]**\n",
    "Write a class called **wheeledrobot** that inherits **robot** class in question 2. In your **wheeledrobot** class, \n",
    "ask the user to enter the maximum load the robot is expected to carry. \n",
    "### Question 3.2  **[20 marks]**\n",
    "\n",
    "* If the load is more than 50kg and the farm is in a flat terrain, print that the wheeled robots of the company are not suitable to carry more than 50kg on a flat terrain. \n",
    "* If the load is more than 30kg and the farm is in a hilly terrain, print that the wheeled robots of the company are not suitable to carry more than 30kg on a hilly terrain. \n",
    "* Given that maximum torque required in each motor is given by $torque = (40 + M) a$, where, $M$ is the expected load, and $a$ is the maximum acceleration, print the maximum torque if the load constraints are satisfied. "
   ]
  },
  {
   "cell_type": "code",
   "execution_count": null,
   "metadata": {
    "collapsed": true
   },
   "outputs": [],
   "source": []
  }
 ],
 "metadata": {
  "kernelspec": {
   "display_name": "Python 3",
   "language": "python",
   "name": "python3"
  },
  "language_info": {
   "codemirror_mode": {
    "name": "ipython",
    "version": 3
   },
   "file_extension": ".py",
   "mimetype": "text/x-python",
   "name": "python",
   "nbconvert_exporter": "python",
   "pygments_lexer": "ipython3",
   "version": "3.6.3"
  }
 },
 "nbformat": 4,
 "nbformat_minor": 2
}
