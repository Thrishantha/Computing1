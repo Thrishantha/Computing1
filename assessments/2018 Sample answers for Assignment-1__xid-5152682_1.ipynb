{
 "cells": [
  {
   "cell_type": "markdown",
   "metadata": {},
   "source": [
    "## Dyson School of Design Engineering\n",
    "### DE1-Computing -1, Sample answers for assignment-1 \n",
    "This assignment carries **40% of the final mark.**\n",
    "\n",
    "**Time allocated:** 90 minutes (or 113 minutes for those students eligible for extra time)\n",
    "\n",
    "This is a Python coding assignment. Please submit your answers as one Jupyter notebook file with code cells or a zip file of separate Python codes for each question. Note that you will get marks for your correct attempts even if the code gives errors for some lines.\n",
    "\n",
    "You can submit upto **5 versions** of answers. The last version will be assessed. You are strongly adviced to submit **at least one version before 80 minutes** to avoid timeout without a submission."
   ]
  },
  {
   "cell_type": "markdown",
   "metadata": {},
   "source": [
    "**Question - 1**: Use the numpy module to generate two 5 by 1 arrays of integer random numbers between 0 and 15 and display the arrays. You can name the two arrays to be a1 and a2."
   ]
  },
  {
   "cell_type": "code",
   "execution_count": 16,
   "metadata": {},
   "outputs": [
    {
     "name": "stdout",
     "output_type": "stream",
     "text": [
      "The two random arrays are a1: [[ 1]\n",
      " [ 8]\n",
      " [ 5]\n",
      " [13]\n",
      " [14]], and a2: [[ 2]\n",
      " [11]\n",
      " [14]\n",
      " [13]\n",
      " [ 9]]\n"
     ]
    }
   ],
   "source": [
    "import numpy as np #This way of importing numpy module\n",
    "#in a short name saves subsequent time of using it, and avoids\n",
    "#possible errors due to mispelling.\n",
    "\n",
    "a1 = np.random.randint(15,size=(5,1))\n",
    "#This is a good way to generate an array of 5 by 1\n",
    "#random integer numbers between 0 and 15.\n",
    "#using the numpy module's random number generator method. \n",
    "a2 = np.random.randint(15,size=(5,1))#Another integer array \n",
    "#of same size.\n",
    "\n",
    "print(\"The two random arrays are a1: {}, and a2: {}\" .format(a1,a2))"
   ]
  },
  {
   "cell_type": "markdown",
   "metadata": {},
   "source": [
    "**Question - 2**: Display the transpose of the arrays a1 and a2 which should be of size 1 by 5"
   ]
  },
  {
   "cell_type": "code",
   "execution_count": 17,
   "metadata": {},
   "outputs": [
    {
     "name": "stdout",
     "output_type": "stream",
     "text": [
      "The two random arrays are a1: [[ 6 13  3  4  0]], and a2: [[ 4  6  8 12  5]]\n"
     ]
    }
   ],
   "source": [
    "import numpy as np #Each cell sould work on its own. So, import\n",
    "#numpy again.\n",
    "\n",
    "a1 = np.random.randint(15,size=(5,1))#generate integer arrays again\n",
    "a2 = np.random.randint(15,size=(5,1))\n",
    "\n",
    "a1t = np.transpose(a1) #This is how to take the transpose of an array\n",
    "a2t = np.transpose(a2) #Assign to new variables to avoid confusion\n",
    "\n",
    "print(\"The two random arrays are a1: {}, and a2: {}\" .format(a1t,a2t))"
   ]
  },
  {
   "cell_type": "markdown",
   "metadata": {},
   "source": [
    "**Question - 3**: Store arrays a1 and a2 in a dictionary structure. Choose your own names for the keys and the dictionary. Hence print the 4th value of each key."
   ]
  },
  {
   "cell_type": "code",
   "execution_count": 1,
   "metadata": {},
   "outputs": [
    {
     "name": "stdout",
     "output_type": "stream",
     "text": [
      "The 4th value of a1 is [9] and that of a2 is [4]\n"
     ]
    }
   ],
   "source": [
    "import numpy as np #Import numpy again\n",
    "\n",
    "a1 = np.random.randint(15,size=(5,1))#generate the integer arrays again\n",
    "a2 = np.random.randint(15,size=(5,1))\n",
    "\n",
    "#A dictionary should have a name, here it is 'arrays'.\n",
    "#it should then have 'keys' and corresponding 'values'\n",
    "#In this case, 'x' and 'y' are keys and a1 and a2 are values.\n",
    "arrays = {\n",
    "    'x' : a1,\n",
    "    'y' : a2\n",
    "}\n",
    "print(\"The 4th value of a1 is {} and that of a2 is {}\" .format(arrays['x'][3],arrays['y'][3]))"
   ]
  },
  {
   "cell_type": "markdown",
   "metadata": {},
   "source": [
    "**Question - 4**: Write a Python code to compare the 4th value of arrays a1 and a2 and display the result of the comparison. i.e. 4th value of a1 is greater than or less than that in a2"
   ]
  },
  {
   "cell_type": "code",
   "execution_count": 2,
   "metadata": {},
   "outputs": [
    {
     "name": "stdout",
     "output_type": "stream",
     "text": [
      "The 4th value of a1 is greater than that of a2\n",
      "The 4th value of a1 is greater than that of a2\n"
     ]
    }
   ],
   "source": [
    "import numpy as np#import numpy again\n",
    "\n",
    "a1 = np.random.randint(15,size=(5,1))#generate integer arrays again\n",
    "a2 = np.random.randint(15,size=(5,1))\n",
    "\n",
    "#a1 = [1,2,3,4,5] #This was a test\n",
    "#a2 = [1,2,3,3,5]\n",
    "arrays = {\n",
    "    'x' : a1,\n",
    "    'y' : a2\n",
    "}\n",
    "\n",
    "if arrays['x'][3] > arrays['y'][3]: #check the greater than condition\n",
    "    print(\"The 4th value of a1 is greater than that of a2\")\n",
    "elif arrays['x'][3] == arrays['y'][3]: #check if they are equal\n",
    "    print(\"The 4th value of a1 is equal to that of a2\")\n",
    "else: #the last possibility should be less than\n",
    "    print(\"The 4th value of a1 is less than than that of a2\")\n",
    "    \n",
    "#This can be done in another way\n",
    "boolvalue1 = arrays['x'][3] > arrays['y'][3] #obtain the result as a boolean variable\n",
    "boolvalue2 = arrays['x'][3] == arrays['y'][3]\n",
    "if boolvalue1: #if condition is TRUE print the following\n",
    "    print(\"The 4th value of a1 is greater than that of a2\")\n",
    "elif boolvalue2:#if this condition is TRUE print the following\n",
    "    print(\"The 4th value of a1 is equal to that of a2\")\n",
    "else:#last condition doesn't need a boolean variable\n",
    "    print(\"The 4th value of a1 is less than than that of a2\")"
   ]
  },
  {
   "cell_type": "markdown",
   "metadata": {},
   "source": [
    "**Question - 5**: Write a Python function that takes a value of $x$ and gives out the value of $y$, where $y = 0.1 x^3 + 0.2 x^2 - 1.2 x -2$. Hence, print the value of $y$ at $x = 2$. Comment your code to explain the vital steps."
   ]
  },
  {
   "cell_type": "code",
   "execution_count": 2,
   "metadata": {},
   "outputs": [
    {
     "name": "stdout",
     "output_type": "stream",
     "text": [
      "The value of y is -2.8 at x = 2\n"
     ]
    }
   ],
   "source": [
    "def myfun(x):#Define myfun that takes x as an input\n",
    "    y = 0.1*x**3 + 0.2*x**2 -1.2*x -2 #Implement the equation\n",
    "    return y #Return the value of y\n",
    "\n",
    "x = 2 #initialize a variable with value 2\n",
    "y1 = myfun(x) #Call myfun by passing x = 2\n",
    "print(\"The value of y is {} at x = {}\" .format(y1,x))"
   ]
  },
  {
   "cell_type": "markdown",
   "metadata": {},
   "source": [
    "**Question - 6**: Extend the function you developed in answer to question 5 to compute a vector of values for y for a vector input for x. Hence, print the vector of y for a vector of $5 \\times 1$ random values between 0 and 10 for x."
   ]
  },
  {
   "cell_type": "code",
   "execution_count": 9,
   "metadata": {},
   "outputs": [
    {
     "name": "stdout",
     "output_type": "stream",
     "text": [
      "The value of y is [[-2. ]\n",
      " [-2.8]\n",
      " [-2. ]\n",
      " [-2.9]\n",
      " [-2. ]] at x = [[0]\n",
      " [2]\n",
      " [0]\n",
      " [1]\n",
      " [0]]\n"
     ]
    }
   ],
   "source": [
    "import numpy as np #import numpy again\n",
    "\n",
    "def myfun(x):#Define myfun that takes x as an input\n",
    "    y = 0.1*x**3 + 0.2*x**2 -1.2*x -2 #Implement the equation\n",
    "    return y #Return the value of y\n",
    "\n",
    "#Vectorization is needed to make sure the above\n",
    "#function works for any array of inputs\n",
    "vecmyfun = np.vectorize(myfun)\n",
    "\n",
    "InpVec = np.random.randint(10,size=(5,1)) #note that \n",
    "#this numpy array works with the above polynomial even without\n",
    "#converting myfun to vecmyfun. But it is a special case.\n",
    "#It won't work if the input was a list.\n",
    "#InpVec = [1,2,3,4]\n",
    "#y1 = myfun(InpVec)#this won't work\n",
    "y1 = vecmyfun(InpVec) #Call myfun by passing InpVec\n",
    "print(\"The value of y is {} at x = {}\" .format(y1,InpVec))"
   ]
  },
  {
   "cell_type": "markdown",
   "metadata": {},
   "source": [
    "**Question - 7**: Use a dictionary data structure called \"func\" to store the random value vector of x in question - 6 using a key called \"Inputs\" and the corresponding output vector using a key called \"Output\". Hence display the 3rd value of inputs and 2nd value of outputs."
   ]
  },
  {
   "cell_type": "code",
   "execution_count": 10,
   "metadata": {},
   "outputs": [
    {
     "name": "stdout",
     "output_type": "stream",
     "text": [
      "The value of y is [[ 52.4]\n",
      " [ 33.7]\n",
      " [ -1.1]\n",
      " [  9.5]\n",
      " [  2.8]] at x = [[8]\n",
      " [7]\n",
      " [3]\n",
      " [5]\n",
      " [4]]\n",
      "The 3rd value of inputs is [3], and the 2nd value of the outputs is [ 33.7]\n"
     ]
    }
   ],
   "source": [
    "import numpy as np #import numpy again\n",
    "\n",
    "def myfun(x):#Define myfun that takes x as an input again\n",
    "    y = 0.1*x**3 + 0.2*x**2 -1.2*x -2 #Implement the equation\n",
    "    return y #Return the value of y\n",
    "\n",
    "vecmyfun = np.vectorize(myfun) #Vectorize myfun\n",
    "\n",
    "x = np.random.randint(10,size=(5,1)) #generate a 5 by 1 array of integer\n",
    "#random values between 0 and 10 \n",
    "\n",
    "y1 = vecmyfun(x) #Call vecmyfun by passing x\n",
    "\n",
    "#Then create a dictionary named 'func' with keys 'inputs' and \n",
    "#'outputs' with values x and y1\n",
    "func = {\n",
    "    'Inputs' : x,\n",
    "    'Outputs' : y1\n",
    "}\n",
    "print(\"The value of y is {} at x = {}\" .format(y1,x)) # This is just to check the next print\n",
    "print(\"The 3rd value of inputs is {}, and the 2nd value of the outputs is {}\" .format(func['Inputs'][2],func['Outputs'][1]))"
   ]
  },
  {
   "cell_type": "markdown",
   "metadata": {},
   "source": [
    "**Question - 8**: Use symbolic Python to differentiate the function $y = 0.1 x^3 + 0.2 x^2 - 1.2 x -2$ with respect to $x$. Hence, plot $y$ and $\\frac{dy}{dx}$ in the range $x = [-3,3]$ in steps of 0.1. You can plot the two curves in tw plots or in the same plot."
   ]
  },
  {
   "cell_type": "code",
   "execution_count": 11,
   "metadata": {},
   "outputs": [
    {
     "data": {
      "image/png": "[encoded data removed]",
      "text/plain": [
       "<matplotlib.figure.Figure at 0x10759e978>"
      ]
     },
     "metadata": {},
     "output_type": "display_data"
    }
   ],
   "source": [
    "import matplotlib.pyplot as plt #Import plot module\n",
    "import numpy as np #Import numpy for math and array handling\n",
    "from sympy import * #Import symbolic py module\n",
    "\n",
    "x,y = symbols('x y') #Declare the symbolic variables\n",
    "\n",
    "y = 0.1*x**3 + 0.2*x**2 -1.2*x - 2 #The equation with powers of x\n",
    "yd = diff(y,x) #Differentiate y with respect to x\n",
    "\n",
    "xr = np.arange(-6,6,0.1) #Initialize xr between -6 and 6 in steps of 0.1\n",
    "ys = [] #Empty arrays to be filled\n",
    "yds = []\n",
    "for i in range(len(xr)): #Loop through the length of xr\n",
    "    ys.append(y.subs([(x,xr[i])])) #Substitute xr values in x and append to ys and yds arrays\n",
    "    yds.append(yd.subs([(x,xr[i])]))\n",
    "\n",
    "\n",
    "fig, ax = plt.subplots() #open a figure\n",
    "ax.plot(xr,ys,'r:',label = 'ys') #Use the axis object to plot and add legend items\n",
    "ax.plot(xr,yds,'b:',label = 'yds')\n",
    "ax.legend(loc = 'upper left') #Specify the position of the legend\n",
    "plt.xlabel('x values')\n",
    "plt.ylabel('y,yd values')\n",
    "plt.show()\n"
   ]
  },
  {
   "cell_type": "markdown",
   "metadata": {},
   "source": [
    "**Question-9**: Mention an advantage and a disadvantage of an Interpreter compared to a compiler"
   ]
  },
  {
   "cell_type": "markdown",
   "metadata": {},
   "source": [
    "An intepreter translates high level language codes to machine language line by line when the program is running, whereas a compiler does that for the whole code in one go.\n",
    "\n",
    "Advantage: Syntax and execution errors can be quickly identified because the program stops at the line that gives the error.\n",
    "\n",
    "Disadvantage: Relatively slow running compared to compiled programs because each line of the program must be translated before it can be run. This adds overheads to the CPU. This is analogous to a translater who has to go between a speaker and a listener at every sentence, compared to going between only once in the case of compiling."
   ]
  },
  {
   "cell_type": "markdown",
   "metadata": {},
   "source": [
    "**Question-10**: Give an example for a semantic error in a program"
   ]
  },
  {
   "cell_type": "markdown",
   "metadata": {},
   "source": [
    "Any example of a logical error is fine. For instance, a program that computes the compounded interest of a bank account should take the account balance at the end of the month, compute the interest, and add it back to the balance before computing the interest in the next month. Computing interest on the original balance is a semantic error."
   ]
  },
  {
   "cell_type": "code",
   "execution_count": 12,
   "metadata": {},
   "outputs": [
    {
     "name": "stdout",
     "output_type": "stream",
     "text": [
      "0\n"
     ]
    }
   ],
   "source": [
    "#Another example of a semantic error (logical error)\n",
    "def add(x,y):\n",
    "    res=x+y\n",
    "    return 0 #Addition is done correctly, but the function passes the wrong value\n",
    "print(add(1,2))\n",
    "# in this example we are expecting the function to return the addition but it will return 0 \n",
    "# all the time. The program can be run. So, there are no syntax errors, but there is a semantic error"
   ]
  },
  {
   "cell_type": "code",
   "execution_count": null,
   "metadata": {
    "collapsed": true
   },
   "outputs": [],
   "source": []
  }
 ],
 "metadata": {
  "kernelspec": {
   "display_name": "Python 3",
   "language": "python",
   "name": "python3"
  },
  "language_info": {
   "codemirror_mode": {
    "name": "ipython",
    "version": 3
   },
   "file_extension": ".py",
   "mimetype": "text/x-python",
   "name": "python",
   "nbconvert_exporter": "python",
   "pygments_lexer": "ipython3",
   "version": "3.6.3"
  }
 },
 "nbformat": 4,
 "nbformat_minor": 2
}
