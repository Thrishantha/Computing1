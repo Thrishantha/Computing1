{
 "cells": [
  {
   "cell_type": "markdown",
   "metadata": {},
   "source": [
    "## Dyson School of Design Engineering\n",
    "### DE1-Computing -1, Assignment-1\n",
    "This assignment carries **40% of the final mark.**\n",
    "\n",
    "**Time allocated:** 90 minutes (or 113 minutes for those students eligible for extra time)\n",
    "\n",
    "This is a Python coding assignment. Please submit your answers as one Jupyter notebook file with code cells or a zip file of separate Python codes for each question. Note that you will get marks for your correct attempts even if the code gives errors for some lines.\n",
    "\n",
    "You can submit upto **5 versions** of answers. The last version will be assessed. You are strongly adviced to submit **at least one version before 80 minutes** to avoid timeout without a submission."
   ]
  },
  {
   "cell_type": "markdown",
   "metadata": {},
   "source": [
    "**Question - 1**: Use the numpy module to generate two 5 by 1 arrays of integer random numbers between 0 and 15 and display the arrays. You can name the two arrays to be a1 and a2. **[5 marks]**"
   ]
  },
  {
   "cell_type": "markdown",
   "metadata": {},
   "source": [
    "**Question - 2**: Display the transpose of the arrays a1 and a2 which should be of size 1 by 5 **[5 marks]**"
   ]
  },
  {
   "cell_type": "markdown",
   "metadata": {},
   "source": [
    "**Question - 3**: Store arrays a1 and a2 in a dictionary structure. Choose your own names for the keys and the dictionary. Hence print the 4th value of each key. **[10 marks]**"
   ]
  },
  {
   "cell_type": "markdown",
   "metadata": {},
   "source": [
    "**Question - 4**: Write a Python code to compare the 4th value of arrays a1 and a2 and display the result of the comparison. i.e. 4th value of a1 is greater than or less than that in a2. **[10 marks]**"
   ]
  },
  {
   "cell_type": "markdown",
   "metadata": {},
   "source": [
    "**Question - 5**: Write a Python function that takes a value of $x$ and gives out the value of $y$, where $y = 0.1 x^3 + 0.2 x^2 - 1.2 x -2$. Hence, print the value of $y$ at $x = 2$. Comment your code to explain the vital steps. **[15 marks]**"
   ]
  },
  {
   "cell_type": "markdown",
   "metadata": {},
   "source": [
    "**Question - 6**: Extend the function you developed in answer to question 5 to compute a vector of values for y for a vector input for x. Hence, print the vector of y for a vector of $5 \\times 1$ random values between 0 and 10 for x. **[15 marks]**"
   ]
  },
  {
   "cell_type": "markdown",
   "metadata": {},
   "source": [
    "**Question - 7**: Use a dictionary data structure called \"func\" to store the random value vector of x in question - 6 using a key called \"Inputs\" and the corresponding output vector using a key called \"Output\". Hence display the 3rd value of inputs and 2nd value of outputs. **[10 marks]**"
   ]
  },
  {
   "cell_type": "markdown",
   "metadata": {},
   "source": [
    "**Question - 8**: Use symbolic Python to differentiate the function $y = 0.1 x^3 + 0.2 x^2 - 1.2 x -2$ with respect to $x$. Hence, plot $y$ and $\\frac{dy}{dx}$ in the range $x = [-3,3]$ in steps of 0.1. You can plot the two curves in tw plots or in the same plot. **[20 marks]**"
   ]
  },
  {
   "cell_type": "markdown",
   "metadata": {},
   "source": [
    "**Question-9**: Mention an advantage and a disadvantage of an Interpreter compared to a compiler **[5 marks]**"
   ]
  },
  {
   "cell_type": "markdown",
   "metadata": {},
   "source": [
    "**Question-10**: Give an example for a semantic error in a program **[5 marks]**"
   ]
  },
  {
   "cell_type": "code",
   "execution_count": null,
   "metadata": {
    "collapsed": true
   },
   "outputs": [],
   "source": []
  }
 ],
 "metadata": {
  "kernelspec": {
   "display_name": "Python 3",
   "language": "python",
   "name": "python3"
  },
  "language_info": {
   "codemirror_mode": {
    "name": "ipython",
    "version": 3
   },
   "file_extension": ".py",
   "mimetype": "text/x-python",
   "name": "python",
   "nbconvert_exporter": "python",
   "pygments_lexer": "ipython3",
   "version": "3.6.3"
  }
 },
 "nbformat": 4,
 "nbformat_minor": 2
}
