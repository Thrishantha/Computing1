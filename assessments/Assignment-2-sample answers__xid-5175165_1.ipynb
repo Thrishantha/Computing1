{
 "cells": [
  {
   "cell_type": "markdown",
   "metadata": {},
   "source": [
    "## Dyson School of Design Engineering\n",
    "20th June 2018\n",
    "### DE1-Computing -1, Assignment-2\n",
    "#### Answer all questions\n",
    "** This assignment carries 60% of the final mark.**\n",
    "\n",
    "* This is an open book Python coding assignment. \n",
    "* You are allowed to submit upto 5 attempts on Black Board (Click Assignment-2 and follow instructions)\n",
    "* Please submit your answers as one Jupyter notebook file with code cells or a zip file of separate Python codes for each question. \n",
    "* Each Jupyter Notebook cell should run on its own. Do not assume availability of variables in the memory from previous cells.\n",
    "* Note that you will get marks for your correct attempts even if the code gives errors for some lines."
   ]
  },
  {
   "cell_type": "markdown",
   "metadata": {
    "collapsed": true
   },
   "source": [
    "## Question 1\n",
    "\n",
    "Two players Jack and Billy play a dice game. They will both start the game with 100 GBP.\n",
    "In each round, each player will roll 3 dice each having numbers from 1-6. The person who has the higher score (add the number of the three dice) wins. The winner gets 10 GBP from the other player. If they have the same score, they need to both roll the dice again.\n",
    "\n",
    "## Question 1.1  **[10 marks]**\n",
    "Write a class called **player** that has methods to roll 3-dice, to add £10 if one wins and to substract £10 if one loses.\n",
    "## Question 1.2  **[20 marks]**\n",
    "Create instances for Jack and Billy. Do the following after 8-rounds of playing. \n",
    "\n",
    "* print how much money each of them have at the end of the game.\n",
    "* print how many rounds each of them wins.\n",
    "* plot the total amount of money each player had at each round. Label x and y axes, add a title for the plot, and show legends for both players.  "
   ]
  },
  {
   "cell_type": "code",
   "execution_count": 1,
   "metadata": {},
   "outputs": [
    {
     "name": "stdout",
     "output_type": "stream",
     "text": [
      "########Game Begin#########\n",
      "Billy and Jack joined the game. They both started the game with 100 GBP\n",
      "Billy has 80 GBP at the end of the game\n",
      "Jack has 120 GBP at the end of the game\n",
      "The score history of Billy is [7, 10, 14, 14, 5, 11, 16, 12, 11]\n",
      "The score history of Jack is [10, 10, 10, 9, 13, 14, 13, 16, 15]\n"
     ]
    },
    {
     "data": {
      "image/png": "[encoded data removed]",
      "text/plain": [
       "<matplotlib.figure.Figure at 0x113555588>"
      ]
     },
     "metadata": {},
     "output_type": "display_data"
    },
    {
     "name": "stdout",
     "output_type": "stream",
     "text": [
      "The Money history of Billy is [90, 100, 110, 100, 90, 100, 90, 80]\n",
      "The Money history of Jack is [110, 100, 90, 100, 110, 100, 110, 120]\n",
      "Billy won 3 times\n",
      "Jack won 5 times\n"
     ]
    }
   ],
   "source": [
    "import random\n",
    "import matplotlib.pyplot as plt\n",
    "\n",
    "class player:\n",
    " def __init__ (self,name,money):\n",
    "  self.name = name\n",
    "  self.money = money\n",
    "  self.scorehistory = []\n",
    "  self.moneyhistory = []\n",
    "  self.numwin = 0\n",
    "  self.numlose = 0\n",
    "  \n",
    " def getscorehistory():\n",
    "  return self.scorehistory\n",
    "  \n",
    " def win(self):\n",
    "  self.money += 10\n",
    "  self.moneyhistory.append(self.money)\n",
    "  self.numwin += 1\n",
    "  return self.money\n",
    "  \n",
    " def lose(self):\n",
    "  self.money -= 10\n",
    "  self.moneyhistory.append(self.money)\n",
    "  self.numlose += 1\n",
    "  return self.money\n",
    "   \n",
    " def rolldice(self):\n",
    "     score = 0\n",
    "     for x in range(3):\n",
    "         score += random.randint(1,7)\n",
    "     self.scorehistory.append(score)\n",
    "     return score\n",
    "playerONE = player(\"Billy\",100)\n",
    "playerTWO = player(\"Jack\",100)\n",
    "\n",
    "Round = 8\n",
    "history = list(range(1,Round+1))\n",
    "for _ in range(Round):\n",
    "    score1 = playerONE.rolldice()\n",
    "    score2 = playerTWO.rolldice()\n",
    "    while (score1 == score2):\n",
    "        score1 = playerONE.rolldice()\n",
    "        score2 = playerTWO.rolldice()  \n",
    "    if score1 > score2:\n",
    "        playerONE.win()\n",
    "        playerTWO.lose()\n",
    "    elif score1 < score2:\n",
    "        playerTWO.win() \n",
    "        playerONE.lose()\n",
    "        \n",
    "print('########Game Begin#########')\n",
    "print('{} and {} joined the game. They both started the game with 100 GBP'.format(playerONE.name,playerTWO.name))        \n",
    "print('{} has {} GBP at the end of the game'.format(playerONE.name,playerONE.money))\n",
    "print('{} has {} GBP at the end of the game'.format(playerTWO.name,playerTWO.money))\n",
    "print('The score history of {} is {}'.format(playerONE.name,playerONE.scorehistory))\n",
    "print('The score history of {} is {}'.format(playerTWO.name,playerTWO.scorehistory))\n",
    "fig, ax = plt.subplots() \n",
    "ax.plot(history,playerONE.moneyhistory,'m-',label=playerONE.name) \n",
    "ax.plot(history,playerTWO.moneyhistory,'b-',label=playerTWO.name)\n",
    "plt.xlabel(\"Round\")\n",
    "plt.ylabel(\"Money History\")\n",
    "plt.title(\"Money History of the Game\")\n",
    "legend = ax.legend(loc='upper right', shadow=False) \n",
    "plt.show()\n",
    "print('The Money history of {} is {}'.format(playerONE.name,playerONE.moneyhistory))\n",
    "print('The Money history of {} is {}'.format(playerTWO.name,playerTWO.moneyhistory))\n",
    "print('{} won {} times'.format(playerONE.name,playerONE.numwin))\n",
    "print('{} won {} times'.format(playerTWO.name,playerTWO.numwin))"
   ]
  },
  {
   "cell_type": "markdown",
   "metadata": {},
   "source": [
    "### Question 2 \n",
    "\n",
    "A robotics company designs legged robots and wheeled robots for agricultural applications. They have a user interface that allows potential users to enter details of their requirements. You have to develop an object oriented program to keep a track of these user requirements, inform custmers what can be made and what cannot be made, and provide an estimate of costs involved. \n",
    "\n",
    "### Question 2.1 **[10 marks]**\n",
    "Develop a class called \"robot\" that takes the following user information: \n",
    "* Name of the user\n",
    "* Area of the farm in $m^2$\n",
    "* What is grown in the fram\n",
    "* Terrain conditions (flat, hilly)\n",
    "* Expected maximum acceleration of the robot\n",
    "\n"
   ]
  },
  {
   "cell_type": "code",
   "execution_count": 2,
   "metadata": {},
   "outputs": [
    {
     "name": "stdout",
     "output_type": "stream",
     "text": [
      "Please type your name: Thrish\n",
      "What is the estimated area of your farm in square meters? 200\n",
      "What is the farm about? Wheat\n",
      "Is your farm terrain hilly or flat? hilly\n",
      "What is the expected maximum acceleration of the robot? 40\n"
     ]
    }
   ],
   "source": [
    "class robot:\n",
    "    num = 0\n",
    "    def __init__(self):\n",
    "        robot.num += 1\n",
    "        self.UserNum = robot.num\n",
    "        #Name of the user\n",
    "        self.name = input(\"Please type your name: \")\n",
    "        #Area of the farm\n",
    "        self.area = float(input(\"What is the estimated area of your farm in square meters? \"))\n",
    "        #What is grown in the farm\n",
    "        self.farmtype = input(\"What is the farm about? \")\n",
    "        #Terrain conditions (flat, hilly)\n",
    "        self.terrain = input(\"Is your farm terrain hilly or flat? \")\n",
    "        #Expected maximum acceleration\n",
    "        self.maxacc = float(input(\"What is the expected maximum acceleration of the robot? \"))\n",
    "        \n",
    "myrobot = robot()"
   ]
  },
  {
   "cell_type": "markdown",
   "metadata": {},
   "source": [
    "### Question 2.2  **[10 marks]**\n",
    "Extend the above class to inform the user whether the robot can be designed or not based on the maximum expected acceleration, assuming that the company can make robots that can move at a maximum acceleration of $10 m/sec^2$ if the terrain is hilly and $20 m/sec^2$ if it is flat.\n",
    "\n"
   ]
  },
  {
   "cell_type": "code",
   "execution_count": 3,
   "metadata": {},
   "outputs": [
    {
     "name": "stdout",
     "output_type": "stream",
     "text": [
      "Please type your name: Thrish\n",
      "What is the estimated area of your farm in square meters? 2000\n",
      "What is the farm about? Wheat\n",
      "Is your farm terrain hilly or flat? hilly\n",
      "What is the expected maximum acceleration of the robot? 40\n",
      "Sorry your expected acceleration is beyond 20m/sec^2 we make for hilly terrains\n"
     ]
    }
   ],
   "source": [
    "class robot:\n",
    "    num = 0\n",
    "    def __init__(self):\n",
    "        robot.num += 1\n",
    "        self.UserNum = robot.num\n",
    "        #Name of the user\n",
    "        self.name = input(\"Please type your name: \")\n",
    "        #Area of the farm\n",
    "        self.area = float(input(\"What is the estimated area of your farm in square meters? \"))\n",
    "        #What is grown in the farm\n",
    "        self.farmtype = input(\"What is the farm about? \")\n",
    "        #Terrain conditions (flat, hilly)\n",
    "        self.terrain = input(\"Is your farm terrain hilly or flat? \")\n",
    "        #Expected maximum acceleration\n",
    "        self.maxacc = float(input(\"What is the expected maximum acceleration of the robot? \"))\n",
    "        \n",
    "    def testaccel(self):\n",
    "        if self.maxacc > 20 and (self.terrain == 'flat' or self.terrain == 'Flat'):\n",
    "            print(\"Sorry your expected acceleration is beyond the 10m/sec^2 we make for flat terrains\")\n",
    "        elif self.maxacc > 10 and (self.terrain == 'hilly' or self.terrain == 'Hilly'):\n",
    "            print(\"Sorry your expected acceleration is beyond 20m/sec^2 we make for hilly terrains\")\n",
    "        else:\n",
    "            print(\"Glad that your expected acceleration is within our range\")\n",
    "        \n",
    "myrobot = robot()\n",
    "myrobot.testaccel()\n"
   ]
  },
  {
   "cell_type": "markdown",
   "metadata": {},
   "source": [
    "### Question 2.3  **[20 marks]**\n",
    "Assuming the user's acceleration requirement is within the company's capability, extend the above class with a method to calculate and print the fuel cost to 2-decimal places to cover the farm land based on the following information.\n",
    "\n",
    "Let the farm area be $a$.\n",
    "Annual fuel cost = $\\sqrt{(0.002 a^2 + 0.4 a)}$ if the terrain condition is hilly.\n",
    "Annual fuel cost = $\\sqrt{(0.001 a^2 + 0.4 a)}$ if the terrain condition is flat. "
   ]
  },
  {
   "cell_type": "code",
   "execution_count": 10,
   "metadata": {},
   "outputs": [
    {
     "name": "stdout",
     "output_type": "stream",
     "text": [
      "Please type your name: Thrish\n",
      "What is the estimated area of your farm in square meters? 2000\n",
      "What is the farm about? Wheat\n",
      "Is your farm terrain hilly or flat? hilly\n",
      "What is the expected maximum acceleration of the robot? 25\n",
      "Sorry your expected acceleration is beyond 20m/sec^2 we make for hilly terrains\n",
      "The expected acceleration is too much!\n",
      "The expected annual fuel cost is £0.00\n"
     ]
    }
   ],
   "source": [
    "from math import *\n",
    "\n",
    "class robot:\n",
    "    num = 0\n",
    "    def __init__(self):\n",
    "        robot.num += 1\n",
    "        self.UserNum = robot.num\n",
    "        #Name of the user\n",
    "        self.name = input(\"Please type your name: \")\n",
    "        #Area of the farm\n",
    "        self.area = float(input(\"What is the estimated area of your farm in square meters? \"))\n",
    "        #What is grown in the farm\n",
    "        self.farmtype = input(\"What is the farm about? \")\n",
    "        #Terrain conditions (flat, hilly)\n",
    "        self.terrain = input(\"Is your farm terrain hilly or flat? \")\n",
    "        #Expected maximum acceleration\n",
    "        self.maxacc = float(input(\"What is the expected maximum acceleration of the robot? \"))\n",
    "        \n",
    "    def testaccel(self):\n",
    "        if self.maxacc > 20 and (self.terrain == 'flat' or self.terrain == 'Flat'):\n",
    "            print(\"Sorry your expected acceleration is beyond the 10m/sec^2 we make for flat terrains\")\n",
    "        elif self.maxacc > 10 and (self.terrain == 'hilly' or self.terrain == 'Hilly'):\n",
    "            print(\"Sorry your expected acceleration is beyond 20m/sec^2 we make for hilly terrains\")\n",
    "        else:\n",
    "            print(\"Glad that your expected acceleration is within our range\")\n",
    "    def fuel(self):\n",
    "        if self.maxacc <= 20 and (self.terrain == 'flat' or self.terrain == 'Flat'):\n",
    "            a = self.area\n",
    "            f = sqrt(0.0001*a**2 + 0.4*a)\n",
    "            #print(\"The expected fuel cost is £{}\" .format(f))\n",
    "            return f\n",
    "        elif self.maxacc <= 10 and (self.terrain == 'hilly' or self.terrain == 'Hilly'):\n",
    "            a = self.area\n",
    "            f = sqrt(0.0002*a**2 + 0.4*a)\n",
    "            #print(\"The expected fuel cost is £{}\" .format(f))\n",
    "            return f\n",
    "        else:\n",
    "            print(\"The expected acceleration is too much!\")\n",
    "            return 0\n",
    "            \n",
    "myrobot = robot()\n",
    "myrobot.testaccel()\n",
    "ff = myrobot.fuel()\n",
    "print(\"The expected annual fuel cost is £{:.2f}\" .format(ff))\n"
   ]
  },
  {
   "cell_type": "markdown",
   "metadata": {},
   "source": [
    "### Question 3\n",
    "### Question 3.1  **[10 marks]**\n",
    "Write a class called \"wheeledrobot\" that inherits \"robot\" class in question 2. In your wheeledrobot class, \n",
    "ask the user to enter the maximum load the robot is expected to carry. "
   ]
  },
  {
   "cell_type": "code",
   "execution_count": 6,
   "metadata": {},
   "outputs": [
    {
     "name": "stdout",
     "output_type": "stream",
     "text": [
      "Please type your name: Thrish\n",
      "What is the estimated area of your farm in square meters? 2000\n",
      "What is the farm about? Wheat\n",
      "Is your farm terrain hilly or flat? hilly\n",
      "What is the expected maximum acceleration of the robot? 25\n",
      "What is the maximum load you expect to carry on the robot: 30\n"
     ]
    }
   ],
   "source": [
    "from math import *\n",
    "\n",
    "class robot:\n",
    "    num = 0\n",
    "    def __init__(self):\n",
    "        robot.num += 1\n",
    "        self.UserNum = robot.num\n",
    "        #Name of the user\n",
    "        self.name = input(\"Please type your name: \")\n",
    "        #Area of the farm\n",
    "        self.area = float(input(\"What is the estimated area of your farm in square meters? \"))\n",
    "        #What is grown in the farm\n",
    "        self.farmtype = input(\"What is the farm about? \")\n",
    "        #Terrain conditions (flat, hilly)\n",
    "        self.terrain = input(\"Is your farm terrain hilly or flat? \")\n",
    "        #Expected maximum acceleration\n",
    "        self.maxacc = float(input(\"What is the expected maximum acceleration of the robot? \"))\n",
    "        \n",
    "    def testaccel(self):\n",
    "        if self.maxacc > 20 and (self.terrain == 'flat' or self.terrain == 'Flat'):\n",
    "            print(\"Sorry your expected acceleration is beyond the 10m/sec^2 we make for flat terrains\")\n",
    "        elif self.maxacc > 10 and (self.terrain == 'hilly' or self.terrain == 'Hilly'):\n",
    "            print(\"Sorry your expected acceleration is beyond 20m/sec^2 we make for hilly terrains\")\n",
    "        else:\n",
    "            print(\"Glad that your expected acceleration is within our range\")\n",
    "    def fuel(self):\n",
    "        if self.maxacc <= 20 and (self.terrain == 'flat' or self.terrain == 'Flat'):\n",
    "            a = self.area\n",
    "            f = 0.0001*a**2 + 0.4*a\n",
    "            #print(\"The expected fuel cost is £{}\" .format(f))\n",
    "        elif self.maxacc <= 10 and (self.terrain == 'hilly' or self.terrain == 'Hilly'):\n",
    "            a = self.area\n",
    "            f = 0.0002*a**2 + 0.4*log(a)\n",
    "            #print(\"The expected fuel cost is £{}\" .format(f))\n",
    "        else:\n",
    "            print(\"The expected acceleration is too much!\")\n",
    "        return f\n",
    "    \n",
    "class wheeledrobot(robot):\n",
    "    def __init__(self):\n",
    "        robot.__init__(self)\n",
    "        self.mass = float(input(\"What is the maximum load you expect to carry on the robot: \"))\n",
    "        \n",
    "myrob = wheeledrobot()"
   ]
  },
  {
   "cell_type": "markdown",
   "metadata": {},
   "source": [
    "### Question 3.2  **[20 marks]**\n",
    "If the user's maximum load in question 3.1 is more than 50kg and the farm is in a flat terrain, print that the wheeled robots of the company are not suitable to carry more than 50kg on a flat terrain. If the load is more than 30kg and the farm is in a hilly terrain, print that the wheeled robots of the company are not suitable to carry more than 30kg on a hilly terrain. If the load constraints are satisfied, compute and print the maximum torque required in each motor given by $\\tau = (40 + M) a$, where $\\tau$ is the maximum torque per wheel, $M$ is the expected load, and $a$ is the maximum acceleration. "
   ]
  },
  {
   "cell_type": "code",
   "execution_count": 7,
   "metadata": {},
   "outputs": [
    {
     "name": "stdout",
     "output_type": "stream",
     "text": [
      "Please type your name: Thrish\n",
      "What is the estimated area of your farm in square meters? 2000\n",
      "What is the farm about? Whet\n",
      "Is your farm terrain hilly or flat? hilly\n",
      "What is the expected maximum acceleration of the robot? 25\n",
      "What is the payload you expect to carry on the robot: 30\n",
      "The expected peak torque is 1750.0Nm\n"
     ]
    }
   ],
   "source": [
    "from math import *\n",
    "\n",
    "class robot:\n",
    "    num = 0\n",
    "    def __init__(self):\n",
    "        robot.num += 1\n",
    "        self.UserNum = robot.num\n",
    "        #Name of the user\n",
    "        self.name = input(\"Please type your name: \")\n",
    "        #Area of the farm\n",
    "        self.area = float(input(\"What is the estimated area of your farm in square meters? \"))\n",
    "        #What is grown in the farm\n",
    "        self.farmtype = input(\"What is the farm about? \")\n",
    "        #Terrain conditions (flat, hilly)\n",
    "        self.terrain = input(\"Is your farm terrain hilly or flat? \")\n",
    "        #Expected maximum acceleration\n",
    "        self.maxacc = float(input(\"What is the expected maximum acceleration of the robot? \"))\n",
    "        \n",
    "    def testaccel(self):\n",
    "        if self.maxacc > 20 and (self.terrain == 'flat' or self.terrain == 'Flat'):\n",
    "            print(\"Sorry your expected acceleration is beyond the 10m/sec^2 we make for flat terrains\")\n",
    "        elif self.maxacc > 10 and (self.terrain == 'hilly' or self.terrain == 'Hilly'):\n",
    "            print(\"Sorry your expected acceleration is beyond 20m/sec^2 we make for hilly terrains\")\n",
    "        else:\n",
    "            print(\"Glad that your expected acceleration is within our range\")\n",
    "    def fuel(self):\n",
    "        if self.maxacc <= 20 and (self.terrain == 'flat' or self.terrain == 'Flat'):\n",
    "            a = self.area\n",
    "            f = 0.0001*a**2 + 0.4*a\n",
    "            #print(\"The expected fuel cost is £{}\" .format(f))\n",
    "        elif self.maxacc <= 10 and (self.terrain == 'hilly' or self.terrain == 'Hilly'):\n",
    "            a = self.area\n",
    "            f = 0.0002*a**2 + 0.4*log(a)\n",
    "            #print(\"The expected fuel cost is £{}\" .format(f))\n",
    "        else:\n",
    "            print(\"The expected acceleration is too much!\")\n",
    "        return f\n",
    "\n",
    "class wheeledrobot(robot):\n",
    "    def __init__(self):\n",
    "        robot.__init__(self)\n",
    "        self.mass = float(input(\"What is the payload you expect to carry on the robot: \"))\n",
    "    def torque(self):\n",
    "        if self.mass > 30 and (self.terrain == 'hilly' or self.terrain == 'Hilly'):\n",
    "            print(\"Our wheeled robots are not suitable to carry payloads greater than 30kgs in hilly terrains\")\n",
    "        if self.mass > 50 and (self.terrain == 'flat' or self.terrain == 'Flat'):\n",
    "            print(\"Our wheeled robots are not suitable to carry payloads greater than 50kgs in flat terrains\")\n",
    "        else:\n",
    "            tor = (40 + self.mass)*self.maxacc\n",
    "            print(\"The expected peak torque is {}Nm\" .format(tor))\n",
    "\n",
    "myrob = wheeledrobot()\n",
    "myrob.torque()"
   ]
  },
  {
   "cell_type": "code",
   "execution_count": null,
   "metadata": {
    "collapsed": true
   },
   "outputs": [],
   "source": []
  }
 ],
 "metadata": {
  "kernelspec": {
   "display_name": "Python 3",
   "language": "python",
   "name": "python3"
  },
  "language_info": {
   "codemirror_mode": {
    "name": "ipython",
    "version": 3
   },
   "file_extension": ".py",
   "mimetype": "text/x-python",
   "name": "python",
   "nbconvert_exporter": "python",
   "pygments_lexer": "ipython3",
   "version": "3.6.3"
  }
 },
 "nbformat": 4,
 "nbformat_minor": 2
}
