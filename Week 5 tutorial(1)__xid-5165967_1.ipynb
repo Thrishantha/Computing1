{
 "cells": [
  {
   "cell_type": "markdown",
   "metadata": {},
   "source": [
    "# Week 5 tutorial\n"
   ]
  },
  {
   "cell_type": "markdown",
   "metadata": {},
   "source": [
    "## <font color=blue> Question 1 </font>\n",
    "\n",
    "Design a class called “vehicles” that asks the user to enter basic information like engine capacity, colour, manufacturing year, and type of a vehicle. Then create two instances of vehicles whose types are car and truck respectively. Then, use print command to show the details of the two vehicles."
   ]
  },
  {
   "cell_type": "markdown",
   "metadata": {},
   "source": [
    "## <font color=blue> Question 2 </font>\n",
    "\n",
    "Design a class called “PassengerCar” that inherits the vehicles class and specifies the vehicle type as a car. Make the PassengerCar class ask the user for the model of the vehicle and the current market value, and add these to the features of the vehicle. Create an instance of “PassengerCar”, and print all the features of this instance."
   ]
  },
  {
   "cell_type": "markdown",
   "metadata": {},
   "source": [
    "## <font color=blue> Question 3 </font>\n",
    "\n",
    "Design a class called “DeliveryTruck” that inherits the vehicles class and specifies the vehicle type as a truck. Make the DeliveryTruck class ask the user for the model of the vehicle, the payload capacity in tons, and the current market value, and add these to the features of the vehicle. Create an instance of “DeliveryTruck”, and print all the features of this instance.\n"
   ]
  },
  {
   "cell_type": "markdown",
   "metadata": {},
   "source": [
    "## <font color=blue> Question 4 </font>\n",
    "\n",
    "Improve the code in question 3 to give a useful error message if the user enters the payload capacity as a string like Five tons instead of 5.\n"
   ]
  },
  {
   "cell_type": "markdown",
   "metadata": {},
   "source": [
    "## <font color=blue> Question 5 </font>\n",
    "\n",
    "Write a code to add the market values of the PassengerCar instance and the DeliveryTruck instance.\n"
   ]
  },
  {
   "cell_type": "markdown",
   "metadata": {},
   "source": [
    "## <font color=blue> Question 6 </font>\n",
    "Using your knowledge of OOP, you're going to write a program which helps keep track of what goes on in a series of pet hotels. To begin with here is a breakdown of all the information we will need to manage:\n",
    "* Hotel Details \n",
    "    * Location\n",
    "    * Number of guests\n",
    "    * Available spaces\n",
    "* Pet Details\n",
    "    * Type of pet (dog or cat)\n",
    "    * Breed of pet\n",
    "    * Pet owner\n",
    "    * Age of pet\n",
    "    * Days of stay\n",
    "    * Daily status (groomed, fed, exercised, etc.)\n",
    "    \n",
    "There will also be a series of actions we would like to be able to perform\n",
    "* Check in a guest\n",
    "* Check out a guest\n",
    "* Open (marks the beginning of the day)\n",
    "* Close (marks the end of the day)\n",
    "* Walk a dog\n",
    "* Groom pets\n",
    "* Feed pets\n",
    "* Contact the owner\n",
    "\n",
    "## <span style=\"color:blue\"> The Programming </span>\n",
    "\n",
    "Start by laying out a plan on how you will represent these details in an object oriented structure. Based on this structure, start to create classes and subclasses with the relevant attributes and methods. Feel free to expand beyond the information given above (I don't own any pets so I don't know much about how to look after them)! If you would like you can even create a separate set of classes to account for employees at the pet hotel. Think about how you would title them i.e. part-time, full-time, manager. Also think about how you would keep track of their pay and the work they've done or the pets they are responsible for."
   ]
  },
  {
   "cell_type": "markdown",
   "metadata": {},
   "source": [
    "## <font color = 'blue' > Question 7 </font>\n",
    "\n",
    "A person has the choice to desposit an amount in Natwest or Bank of America. Write an object oriented code that asks the customer to enter how much he/she wants to deposit and then gives out the balance at the end of one year in each bank. You can assume an arbitrary interest rate in each bank. Demonstrate how you would use the concept of polymorphism and inheritance to simplify this problem."
   ]
  },
  {
   "cell_type": "markdown",
   "metadata": {},
   "source": [
    "## <font color = 'blue'> Question 8 </font>\n",
    "\n",
    "In a given department, the default criterion to pass an exam is to secure an average grade of more than 50. Average is calculated using the midterm and final exam marks. There are two special student types called DE and IDE. They have two diffent marking systems. DE students get letter grades, A, B, C, and D for average marks (>= 70), (>70 and >= 60), (>60 and >=50), and (>50) respectively. IDE students get 'outstanding', 'excellent', 'good', and 'satisfactory' for average marks (>= 80), (>80 and >= 70), (>70 and >=50), and (>50) respectively. Use inheritance and polymorphism concepts to develop an object oriented code to generate the grade after a user inputs the midterm and final exam marks for any type of student. "
   ]
  },
  {
   "cell_type": "markdown",
   "metadata": {},
   "source": [
    "## <font color = 'blue'> Question 9 </font>\n",
    "\n",
    "Use the concept of classes to develop a battleship game.\n",
    "\n",
    "Problem definition: There is a battleship that can move in a grid space (i.e. n by m grid). The ship can move to any of the grid locations. A user can move the ship within this grid space by entering a movement vector without hitting a randomly initiated sea-mine. \n",
    "\n",
    "Hint: You can define a class called ship that has member functions to update the ship's location in the grid world once a player inputs a movement vector. i.e. (2,1) to move by 2 locations in the positive x direction and by 1 in the positive y direction. "
   ]
  },
  {
   "cell_type": "markdown",
   "metadata": {
    "collapsed": true
   },
   "source": [
    "## <font color = 'blue'> Question 10 </font>\n",
    "Improve the following code with a useful error handling method.\n",
    "\n",
    "* v0 = float(input(\"Please enter the initial speed of the car: \")) \n",
    "* mu = float(input(\"Please enter the friction coefficent: \"))\n",
    "* m = input(\"Please enter the mass of the car: \") #Enter an integer value like 2000\n",
    "* g = 9.81\n",
    "* d = 0.5 * v0**2/(mu*g)\n",
    "* print(\"The car will move {:.2f} [m] distance before stopping\" .format(d))"
   ]
  },
  {
   "cell_type": "markdown",
   "metadata": {},
   "source": [
    "## <font color = 'blue'> Question 11 </font>\n",
    "Improve the following print statement with a useful error handling method.\n",
    "\n",
    "print (50.6 - 0.59810.6**n)"
   ]
  },
  {
   "cell_type": "markdown",
   "metadata": {},
   "source": [
    "## <font color = 'blue '> Question 12 </font>\n",
    "\n",
    "Write a code with error handling to check if the number enetered by a player in the following game is in the range [1, 30]. If it is not, display an informative message and do not count that attempt.\n",
    "\n",
    "E.g.:\n",
    "\n",
    "I am thinking of a number between 1 and 30\n",
    "\n",
    "You have 4 attempts to guess it!\n",
    "\n",
    "Guess my number: 0\n",
    "\n",
    "Oops! Your number was not between 1 and 30\n",
    "\n",
    "You still have 4 attempts left\n",
    "\n",
    "Guess my number:"
   ]
  },
  {
   "cell_type": "markdown",
   "metadata": {},
   "source": [
    "## <font color = 'blue'> Question 13 </font>\n",
    "\n",
    "Improve the following code with a useful error handling method\n",
    "\n",
    "* import math\n",
    "* x = int(input('input an integer to compute its square root: '))\n",
    "* r = math.sqrt(x)\n",
    "* print(r)"
   ]
  },
  {
   "cell_type": "markdown",
   "metadata": {},
   "source": [
    "## <font color = 'blue'> Question 14 </font>\n",
    "\n",
    "Write a program that asks the user to input three integer numbers from 1 to 10 as the lengths of the three edges of a triagle. The code should do the following:\n",
    "\n",
    "* Test if the three edges can form a triangle. \n",
    "* If they can form a triangle, state if it is a right-angled triangle or not. \n",
    "* The program needs to be able to handle potential errors of the input. "
   ]
  },
  {
   "cell_type": "markdown",
   "metadata": {
    "collapsed": true
   },
   "source": [
    "## Inverted pendulum control - object oriented approach\n",
    "\n",
    "The advantage of coding the pendulum controller using an object oriented approach is that we can have different methods of control in a class and choose a controller depending on the control requirement.\n",
    "\n",
    "Write an object oriented code where the feedback gain based controller and rule based controller are methods in one class."
   ]
  },
  {
   "cell_type": "code",
   "execution_count": null,
   "metadata": {
    "collapsed": true
   },
   "outputs": [],
   "source": []
  }
 ],
 "metadata": {
  "anaconda-cloud": {},
  "kernelspec": {
   "display_name": "Python 3",
   "language": "python",
   "name": "python3"
  },
  "language_info": {
   "codemirror_mode": {
    "name": "ipython",
    "version": 3
   },
   "file_extension": ".py",
   "mimetype": "text/x-python",
   "name": "python",
   "nbconvert_exporter": "python",
   "pygments_lexer": "ipython3",
   "version": "3.6.3"
  }
 },
 "nbformat": 4,
 "nbformat_minor": 2
}
