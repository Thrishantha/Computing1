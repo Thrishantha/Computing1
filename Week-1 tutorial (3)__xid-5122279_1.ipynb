{
 "cells": [
  {
   "cell_type": "markdown",
   "metadata": {},
   "source": [
    "### Integer and floating values "
   ]
  },
  {
   "cell_type": "markdown",
   "metadata": {
    "collapsed": true
   },
   "source": [
    "### Q1\n",
    "Evaluate $y = 2x^3 + 3x + 6$ when $x = 3$ and display the answer."
   ]
  },
  {
   "cell_type": "markdown",
   "metadata": {
    "collapsed": true
   },
   "source": [
    "### Q2\n",
    "Evaluate $y = x^3 + 3x + 8$ when $x = 3.124$ and display the answer upto 2 decimal place accuracy."
   ]
  },
  {
   "cell_type": "markdown",
   "metadata": {},
   "source": [
    "### Q3\n",
    "Evaluate $y = (x-3)^2(x+4)$ when $x = 2$ and display the answer."
   ]
  },
  {
   "cell_type": "markdown",
   "metadata": {},
   "source": [
    "### Q4\n",
    "Evaluate $y = (x-3)^2$ when $x = 3.1$ and display the answer."
   ]
  },
  {
   "cell_type": "markdown",
   "metadata": {},
   "source": [
    "### Q5\n",
    "Evaluate $y = (2 + 3j)(3 - 2j)$ and display the real and imaginary parts separately."
   ]
  },
  {
   "cell_type": "markdown",
   "metadata": {},
   "source": [
    "### Q6\n",
    "$a = 3 + 2j$,\n",
    "\n",
    "$b = 7-2j$\n",
    "\n",
    "Display the real and imaginary parts of \n",
    "1. $ab$\n",
    "2. $a/b$\n",
    "3. $a^2 b$"
   ]
  },
  {
   "cell_type": "markdown",
   "metadata": {},
   "source": [
    "### Q7\n",
    "$x = 3 + 2j$,\n",
    "\n",
    "$y = 3 - 2j$\n",
    "\n",
    "Display the result of $xy$."
   ]
  },
  {
   "cell_type": "markdown",
   "metadata": {},
   "source": [
    "## Boolean values"
   ]
  },
  {
   "cell_type": "markdown",
   "metadata": {},
   "source": [
    "### Q1\n",
    "$x = 2$ and $y = 3$.\n",
    "\n",
    "1. Check if $xy$ is greater than $(y/x)^3$\n",
    "2. Check if $3x^3$ is equal to $8y$"
   ]
  },
  {
   "cell_type": "markdown",
   "metadata": {},
   "source": [
    "### Q2\n",
    "\n",
    "$a = 2$\n",
    "\n",
    "$b = 3$\n",
    "\n",
    "1. Obtain the imaginary part of $\\sqrt{(a - b^2)}$ and assign it to variable $x$.\n",
    "2. Obtain the imaginary part of $\\sqrt{(a - 4b)}$ and assign it to variable $y$.\n",
    "3. Check if x is greater than y, x is equal to y, or x is less than or equal to y."
   ]
  },
  {
   "cell_type": "markdown",
   "metadata": {},
   "source": [
    "### Q3\n",
    "Check if $y = 2x^3 + 3x + 6$ is greater than $y = 2x^2 + 8x + 2$ when $x = 2$ and display the answer. "
   ]
  },
  {
   "cell_type": "markdown",
   "metadata": {},
   "source": [
    "# Strings"
   ]
  },
  {
   "cell_type": "markdown",
   "metadata": {},
   "source": [
    "### Q1\n",
    "Ask the user to input the first name, then the last name. Count the number of letters in the first name and in the last name. "
   ]
  },
  {
   "cell_type": "markdown",
   "metadata": {},
   "source": [
    "### Q2\n",
    "Ask the user to enter a password. Then compare it with a stored password to generate a Boolean result of \"yes\" or \"no\"."
   ]
  },
  {
   "cell_type": "markdown",
   "metadata": {},
   "source": [
    "### Q3\n",
    "Ask the user to input the first name, then the second name. \n",
    "1. Check if letter \"a\" is in the first name. Assign the result to boolean variable $x$.\n",
    "2. Check if the letter \"a\" is in the last name. Assign the result to boolean variable $y$. \n",
    "3. Generate a boolean answer (\"True\" or \"False\") to the following statements: \"The user has letter \"a\" both in the first name and the last name\", \"The user has letter \"a\" only in the first name but not in the last name\"."
   ]
  },
  {
   "cell_type": "markdown",
   "metadata": {},
   "source": [
    "# Lists"
   ]
  },
  {
   "cell_type": "markdown",
   "metadata": {},
   "source": [
    "### Q1\n",
    "1. Create a list of names of students in your tutorial group.\n",
    "2. Create another list of their estimated heights in cm.\n",
    "3. Then write a print statement that takes elements from the two lists to display sentences like  \"My friend FirstInTheList is about N feet tall\" for each student in the list."
   ]
  },
  {
   "cell_type": "markdown",
   "metadata": {},
   "source": [
    "### Q2\n",
    "1. Create a list containing your favorite cities.\n",
    "2. Display the number of cities in the list.\n",
    "3. Replace the last entry with \"London\" without manually editing your list.\n",
    "4. Display the new list of cities."
   ]
  },
  {
   "cell_type": "markdown",
   "metadata": {},
   "source": [
    "## Dictionaries"
   ]
  },
  {
   "cell_type": "markdown",
   "metadata": {},
   "source": [
    "### Q1\n",
    "Create a dictionary to store following information about three students in your tutorial group:\n",
    "1. Name\n",
    "2. Estimated height\n",
    "3. Gender\n",
    "4. Age\n",
    "\n",
    "Use the disctionary to show how you would display the name and estimated height of two of the students."
   ]
  },
  {
   "cell_type": "markdown",
   "metadata": {},
   "source": [
    "### Q2\n",
    "Create a dictionary to store the following information about four of your favorite books:\n",
    "1. Title of the book\n",
    "2. Author\n",
    "3. Price\n",
    "4. The year of publication\n",
    "\n",
    "Show how you would display the cost of buying 10 copies of each book."
   ]
  },
  {
   "cell_type": "markdown",
   "metadata": {},
   "source": [
    "## Loops"
   ]
  },
  {
   "cell_type": "markdown",
   "metadata": {},
   "source": [
    "## Q 1"
   ]
  },
  {
   "cell_type": "code",
   "execution_count": null,
   "metadata": {
    "collapsed": true
   },
   "outputs": [],
   "source": [
    "# Use a loop to print the members of the following lists:\n",
    "List1 = ['Sara', 'Neil', 'Hiromi']\n",
    "List2 = [19, 23, 21]\n",
    "List3 = ['A', 'B', 'C']"
   ]
  },
  {
   "cell_type": "markdown",
   "metadata": {},
   "source": [
    "## Q 2"
   ]
  },
  {
   "cell_type": "code",
   "execution_count": null,
   "metadata": {
    "collapsed": true
   },
   "outputs": [],
   "source": [
    "#Make the printing part of this code more compact using a loop\n",
    "\n",
    "#Now you can combine lists and dictionaries like below to include more than one value under a key\n",
    "#Lists\n",
    "List1 = ['Sara', 'Neil', 'Hiromi']\n",
    "List2 = [19, 23, 21]\n",
    "List3 = ['A', 'B', 'C']\n",
    "#Disctionaries\n",
    "Students = {\n",
    "    'Names': List1,\n",
    "    'Age' : List2,\n",
    "    'Class': List3\n",
    "}\n",
    "#Then we access the values by calling the 'key' in the dictionary followed by the index\n",
    "#of the list element\n",
    "print('{} is {} and in class {}' .format(Students['Names'][0],Students['Age'][0],Students['Class'][0]))\n",
    "print('{} is {} and in class {}' .format(Students['Names'][1],Students['Age'][1],Students['Class'][1]))\n",
    "print('{} is {} and in class {}' .format(Students['Names'][2],Students['Age'][2],Students['Class'][2]))"
   ]
  },
  {
   "cell_type": "markdown",
   "metadata": {},
   "source": [
    "## Q 3"
   ]
  },
  {
   "cell_type": "markdown",
   "metadata": {},
   "source": [
    "Evaluate the value of the following function for 4 values of x in a loop\n",
    "$y = x^3 + 3x + 8$ "
   ]
  },
  {
   "cell_type": "markdown",
   "metadata": {},
   "source": [
    "## Some more questions on variables"
   ]
  },
  {
   "cell_type": "markdown",
   "metadata": {},
   "source": [
    "### Q1\n",
    "What is the remainder of $\\frac{2x^3 + 3x + 6}{2x^2 + x + 2}$ when $x = 3$?"
   ]
  },
  {
   "cell_type": "markdown",
   "metadata": {},
   "source": [
    "### Q2\n",
    "Write a code that asks the user to enter the full name, and then checks whether letter 'n' is in the name."
   ]
  },
  {
   "cell_type": "markdown",
   "metadata": {},
   "source": [
    "### Q3\n",
    "Write a code that asks the user to enter a number. Check if the number is positive or negative and display the result. "
   ]
  },
  {
   "cell_type": "markdown",
   "metadata": {},
   "source": [
    "### Q4\n",
    "Write a code to to ask a user to enter the amount of money in the bank account. Then ask the user to enter the current interest rate. Display the total balance after 10 years.\n"
   ]
  },
  {
   "cell_type": "markdown",
   "metadata": {
    "collapsed": true
   },
   "source": [
    "### Q5\n",
    "You have a grocery store inventory with the following items: apples, bananas, oranges, eggs, and milk. Store this information in a list. Ask your user to enter an item they are looking for. Display whether or not you stock that item."
   ]
  },
  {
   "cell_type": "markdown",
   "metadata": {
    "collapsed": true
   },
   "source": [
    "### Q6\n",
    "\n",
    "Given a=10, b=3, please do these three different calculations below:\n",
    "- a divided by b\n",
    "- the reminder of a divided by b\n",
    "- the integer part of a divided by b (it is also called floor division, or integer division)"
   ]
  },
  {
   "cell_type": "code",
   "execution_count": null,
   "metadata": {
    "collapsed": true
   },
   "outputs": [],
   "source": []
  }
 ],
 "metadata": {
  "kernelspec": {
   "display_name": "Python 3",
   "language": "python",
   "name": "python3"
  },
  "language_info": {
   "codemirror_mode": {
    "name": "ipython",
    "version": 3
   },
   "file_extension": ".py",
   "mimetype": "text/x-python",
   "name": "python",
   "nbconvert_exporter": "python",
   "pygments_lexer": "ipython3",
   "version": "3.6.3"
  }
 },
 "nbformat": 4,
 "nbformat_minor": 2
}
