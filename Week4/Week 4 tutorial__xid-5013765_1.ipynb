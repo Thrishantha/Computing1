{
 "cells": [
  {
   "cell_type": "markdown",
   "metadata": {},
   "source": [
    "## Inverted pendulum control, step-5: \n",
    "### Dynamic equations of the inverted pendulum in matrix form\n",
    "\n",
    "Recall that the dynamic equations of the inverted pendulum can be written in matrix form given by:\n",
    "$$\\dot{\\mathbf{s}} = \\mathbf{A} \\mathbf{s} + \\mathbf{B}F$$\n",
    "\n",
    "where,\n",
    "\n",
    "\\begin{equation}\n",
    "\\mathbf{s} = \\left[ \\begin{matrix}\n",
    "x \\\\\n",
    "\\dot{x} \\\\\n",
    "\\theta \\\\\n",
    "\\dot{\\theta} \\\\\n",
    "\\end{matrix} \\right]\n",
    "\\end{equation}\n",
    "\n",
    "\\begin{equation}\n",
    "\\dot{\\mathbf{s}} = \\left[ \\begin{matrix}\n",
    "\\dot{x} \\\\\n",
    "\\ddot{x} \\\\\n",
    "\\dot{\\theta} \\\\\n",
    "\\ddot{\\theta} \\\\\n",
    "\\end{matrix} \\right]\n",
    "\\end{equation}\n",
    "\n",
    "\\begin{equation}\n",
    "\\mathbf{A} = \\left[ \\begin{matrix}\n",
    "0 & 1 & 0 & 0 \\\\\n",
    "0 & -\\frac{(I + m l^2) \\mu}{d} & \\frac{(m l)^2 g}{d} & 0 \\\\\n",
    "0 & 0 & 0 & 1 \\\\\n",
    "0 & -\\frac{m l \\mu}{d} & \\frac{(M+m) m g l}{d} & 0 \\\\\n",
    "\\end{matrix} \\right]\n",
    "\\end{equation}\n",
    "\n",
    "\\begin{equation}\n",
    "\\mathbf{B} = \\left[ \\begin{matrix}\n",
    "0\\\\\n",
    "\\frac{(I+m l^2)}{d}\\\\\n",
    "0\\\\\n",
    "\\frac{m l}{d}\\\\\n",
    "\\end{matrix} \\right]\n",
    "\\end{equation}\n",
    "\n",
    "and \n",
    "\n",
    "\\begin{equation}\n",
    "\\mathbf{s}_{t+T} = \\left[ \\mathbf{I} + T \\mathbf{A} \\right] \\mathbf{s}_t  + T \\mathbf{B}F_t \n",
    "\\end{equation}\n",
    "\n",
    "where, $\\mathbf{I}$ is a $4 \\times 4$ identity matrix, $\\mathbf{s}_{t+T}$ is $\\mathbf{s}$ at time $t+T$ and $\\mathbf{s}_t$ is $\\mathbf{s}$ at time $t$, and $T$ is the sampling step.\n",
    "\n",
    "Given a control law given by\n",
    "\\begin{equation}\n",
    "F_t = -\\mathbf{K} \\mathbf{s}_t\n",
    "\\end{equation}\n",
    "\n",
    "Write a code to iteratively update the value of $\\mathbf{s}_t$ for $t = 0,T,2T,...,8000T$. Plot cart position, cart velocity, pendulum angle, and pendulum angular speed, and force over time."
   ]
  },
  {
   "cell_type": "code",
   "execution_count": null,
   "metadata": {
    "collapsed": true
   },
   "outputs": [],
   "source": []
  }
 ],
 "metadata": {
  "kernelspec": {
   "display_name": "Python 3",
   "language": "python",
   "name": "python3"
  },
  "language_info": {
   "codemirror_mode": {
    "name": "ipython",
    "version": 3
   },
   "file_extension": ".py",
   "mimetype": "text/x-python",
   "name": "python",
   "nbconvert_exporter": "python",
   "pygments_lexer": "ipython3",
   "version": "3.6.3"
  }
 },
 "nbformat": 4,
 "nbformat_minor": 2
}
