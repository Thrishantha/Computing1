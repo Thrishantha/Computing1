{
 "cells": [
  {
   "cell_type": "code",
   "execution_count": 12,
   "metadata": {
    "collapsed": false
   },
   "outputs": [
    {
     "name": "stdout",
     "output_type": "stream",
     "text": [
      "What is the car manufacturing year? 2001\n",
      "What is the car engine capacity? 1600cc\n",
      "What is the car color? blue\n",
      "My vehicle is a car\n",
      "It was made in 2001\n",
      "It has an engine capacity of 1600cc\n",
      "It is blue\n",
      "What is the truck manufacturing year? 2003\n",
      "What is the truck engine capacity? 2300cc\n",
      "What is the truck color? black\n",
      "My vehicle is a truck\n",
      "It was made in 2003\n",
      "It has an engine capacity of 2300cc\n",
      "It is black\n"
     ]
    }
   ],
   "source": [
    "#Question 1.1\n",
    "class vehicles:\n",
    "    'This class records basic information about a vehicle'\n",
    "    def __init__(self,type):\n",
    "        #self.type = model\n",
    "        self.type =  type\n",
    "        self.year =  input(\"What is the %s manufacturing year? \" %(self.type))\n",
    "        self.capacity =  input(\"What is the %s engine capacity? \" %(self.type))\n",
    "        self.color =  input(\"What is the %s color? \" %(self.type))\n",
    "    \n",
    "MyCar = vehicles(\"car\")\n",
    "print(\"\")\n",
    "print(\"My vehicle is a \" + MyCar.type)\n",
    "print(\"It was made in \" + MyCar.year)\n",
    "print(\"It has an engine capacity of \" + MyCar.capacity)\n",
    "print(\"It is \" + MyCar.color)\n",
    "\n",
    "MyTruck = vehicles(\"truck\")\n",
    "print(\"\")\n",
    "print(\"My vehicle is a \" + MyTruck.type)\n",
    "print(\"It was made in \" + MyTruck.year)\n",
    "print(\"It has an engine capacity of \" + MyTruck.capacity)\n",
    "print(\"It is \" + MyTruck.color)"
   ]
  },
  {
   "cell_type": "code",
   "execution_count": 33,
   "metadata": {
    "collapsed": false
   },
   "outputs": [
    {
     "name": "stdout",
     "output_type": "stream",
     "text": [
      "What is the car manufacturing year? 2004\n",
      "What is the car engine capacity? 1600cc\n",
      "What is the car color? blue\n",
      "What is the model of your vehicle? Toyota\n",
      "What is the estimated market value of your vehicle in pounds? two thousand six hundred\n",
      "The value should be an integer or a float. Try again.\n",
      "What is the estimated market value of your vehicle in pounds? 2600\n",
      "\n",
      "My vehicle is a car\n",
      "It was made in 2004\n",
      "It has an engine capacity of 1600cc\n",
      "It is blue\n",
      "It is a Toyota\n",
      "It is valued at 2600.0 \n"
     ]
    }
   ],
   "source": [
    "#Question 1.2\n",
    "class PassengerCar(vehicles):\n",
    "    def __init__(self,type):\n",
    "        vehicles.__init__(self,type)\n",
    "        self.model = input(\"What is the model of your vehicle? \")\n",
    "        try:\n",
    "            self.value = float(input(\"What is the estimated market value of your vehicle in pounds? \"))\n",
    "        except ValueError:\n",
    "            print(\"The value should be an integer or a float. Try again.\")\n",
    "            self.value = float(input(\"What is the estimated market value of your vehicle in pounds? \"))\n",
    "MyToyota = PassengerCar(\"car\")\n",
    "print(\"\")\n",
    "print(\"My vehicle is a \" + MyToyota.type)\n",
    "print(\"It was made in \" + MyToyota.year)\n",
    "print(\"It has an engine capacity of \" + MyToyota.capacity)\n",
    "print(\"It is \" + MyToyota.color)\n",
    "print(\"It is a \" + MyToyota.model)\n",
    "print(\"It is valued at %s \" %(MyToyota.value))"
   ]
  },
  {
   "cell_type": "code",
   "execution_count": 29,
   "metadata": {
    "collapsed": false
   },
   "outputs": [
    {
     "name": "stdout",
     "output_type": "stream",
     "text": [
      "What is the truck manufacturing year? 2003\n",
      "What is the truck engine capacity? 2300cc\n",
      "What is the truck color? blue\n",
      "What is the model of your vehicle? Toyota\n",
      "How much weight can your vehicle carry in tons? 5\n",
      "What is the estimated market value of your vehicle in pounds? one thousand\n",
      "The value should be an integer or a float. Try again.\n",
      "What is the estimated market value of your vehicle in pounds? 6000\n",
      "\n",
      "My vehicle is a blue Toyota truck that is valued at 6000.0 because it was made in 2003, can carry 5 tons, and is powered by a 2300cc engine!\n"
     ]
    }
   ],
   "source": [
    "#Question 1.3\n",
    "class DeliveryTruck(vehicles):\n",
    "    def __init__(self,type):\n",
    "        vehicles.__init__(self,type)\n",
    "        self.model = input(\"What is the model of your vehicle? \")\n",
    "        self.payload = input(\"How much weight can your vehicle carry in tons? \")\n",
    "        try:\n",
    "            self.value = float(input(\"What is the estimated market value of your vehicle in pounds? \"))\n",
    "        except ValueError:\n",
    "            print(\"The value should be an integer or a float. Try again.\")\n",
    "            self.value = float(input(\"What is the estimated market value of your vehicle in pounds? \"))\n",
    "MyWorkHorse = DeliveryTruck(\"truck\")\n",
    "print(\"\")\n",
    "print(\"My vehicle is a %s %s %s that is valued at %s because it was made in %s, can carry %s tons, and is powered by a %s engine!\" %(MyWorkHorse.color,MyWorkHorse.model,MyWorkHorse.type,MyWorkHorse.value,MyWorkHorse.year,MyWorkHorse.payload,MyWorkHorse.capacity))"
   ]
  },
  {
   "cell_type": "code",
   "execution_count": 30,
   "metadata": {
    "collapsed": false
   },
   "outputs": [
    {
     "name": "stdout",
     "output_type": "stream",
     "text": [
      "What is the truck manufacturing year? 2001\n",
      "What is the truck engine capacity? 3400cc\n",
      "What is the truck color? red\n",
      "What is the model of your vehicle? Mitsubishi\n",
      "How much weight can your vehicle carry in tons? six\n",
      "Oops!  Enter the payload capacity as an integer. e.g. 5.  Try again...\n",
      "How much weight can your vehicle carry in tons? 6\n",
      "What is the estimated market value of your vehicle in pounds? two thousand\n",
      "The value should be an integer or a float. Try again.\n",
      "What is the estimated market value of your vehicle in pounds? 8000\n",
      "\n",
      "My vehicle is a red Mitsubishi truck that is valued at 8000.0 because it was made in 2001, can carry 6 tons, and is powered by a 3400cc engine!\n"
     ]
    }
   ],
   "source": [
    "#Question 1.4\n",
    "class DeliveryTruck(vehicles):\n",
    "    def __init__(self,type):\n",
    "        vehicles.__init__(self,type)\n",
    "        self.model = input(\"What is the model of your vehicle? \")\n",
    "        try:\n",
    "            self.payload = int(input(\"How much weight can your vehicle carry in tons? \"))\n",
    "        except ValueError:\n",
    "            print(\"Oops!  Enter the payload capacity as an integer. e.g. 5.  Try again...\")\n",
    "            self.payload = int(input(\"How much weight can your vehicle carry in tons? \"))\n",
    "        try:\n",
    "            self.value = float(input(\"What is the estimated market value of your vehicle in pounds? \"))\n",
    "        except ValueError:\n",
    "            print(\"The value should be an integer or a float. Try again.\")\n",
    "            self.value = float(input(\"What is the estimated market value of your vehicle in pounds? \"))\n",
    "MyWorkHorse = DeliveryTruck(\"truck\")\n",
    "print(\"\")\n",
    "print(\"My vehicle is a %s %s %s that is valued at %s because it was made in %s, can carry %s tons, and is powered by a %s engine!\" %(MyWorkHorse.color,MyWorkHorse.model,MyWorkHorse.type,MyWorkHorse.value,MyWorkHorse.year,MyWorkHorse.payload,MyWorkHorse.capacity))"
   ]
  },
  {
   "cell_type": "code",
   "execution_count": 36,
   "metadata": {
    "collapsed": false
   },
   "outputs": [
    {
     "name": "stdout",
     "output_type": "stream",
     "text": [
      "The total value of vehicles is: £10600.00\n"
     ]
    }
   ],
   "source": [
    "#Question 1.5\n",
    "print(\"The total value of vehicles is: £%0.2f\" %(MyWorkHorse.value+MyToyota.value))"
   ]
  },
  {
   "cell_type": "code",
   "execution_count": null,
   "metadata": {
    "collapsed": true
   },
   "outputs": [],
   "source": []
  }
 ],
 "metadata": {
  "kernelspec": {
   "display_name": "Python [conda root]",
   "language": "python",
   "name": "conda-root-py"
  },
  "language_info": {
   "codemirror_mode": {
    "name": "ipython",
    "version": 3
   },
   "file_extension": ".py",
   "mimetype": "text/x-python",
   "name": "python",
   "nbconvert_exporter": "python",
   "pygments_lexer": "ipython3",
   "version": "3.5.2"
  }
 },
 "nbformat": 4,
 "nbformat_minor": 1
}
